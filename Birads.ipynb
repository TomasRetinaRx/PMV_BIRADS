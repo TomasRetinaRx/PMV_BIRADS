{
 "cells": [
  {
   "cell_type": "markdown",
   "id": "bd863436",
   "metadata": {},
   "source": [
    "# Extra: Read Pickle"
   ]
  },
  {
   "cell_type": "code",
   "execution_count": 104,
   "id": "815f6792",
   "metadata": {},
   "outputs": [
    {
     "name": "stdout",
     "output_type": "stream",
     "text": [
      "Best Specificity (0.5982142686843872) found at epoch 0\n",
      "Best Sensitivity (1.0) found at epoch 0\n",
      "Best Accuracy (0.6484375) found at epoch 0\n"
     ]
    }
   ],
   "source": [
    "import joblib\n",
    "import torch\n",
    "\n",
    "dictionary = joblib.load('./checkpoints/Validation_Info.pkl')\n",
    "\n",
    "max_specificity = torch.max(dictionary[\"Specificity\"])\n",
    "max_sensitivity = torch.max(dictionary[\"Sensitivity\"])\n",
    "max_accuracy = torch.max(dictionary[\"Accuracy\"])\n",
    "\n",
    "max_specificity_epoch = torch.argmax(dictionary[\"Specificity\"])\n",
    "max_sensitivity_epoch = torch.argmax(dictionary[\"Sensitivity\"])\n",
    "max_accuracy_epoch = torch.argmax(dictionary[\"Accuracy\"])\n",
    "\n",
    "print(f\"Best Specificity ({max_specificity}) found at epoch {max_specificity_epoch}\")\n",
    "print(f\"Best Sensitivity ({max_sensitivity}) found at epoch {max_sensitivity_epoch}\")\n",
    "print(f\"Best Accuracy ({max_accuracy}) found at epoch {max_accuracy_epoch}\")"
   ]
  },
  {
   "cell_type": "markdown",
   "id": "65d86dd8",
   "metadata": {},
   "source": [
    "# INBreast Dataset\n",
    "\n",
    "The dataset should be placed in the same folder as this notebook.\n",
    "\n",
    "The directory should look like this:\n",
    "\n",
    "    PMV-BIRADS\n",
    "      |-INbreast Release 1.0\n",
    "      |    |-AllDICOMs\n",
    "      |    |    |...\n",
    "      |    |-AllROI\n",
    "      |    |    |...\n",
    "      |    |-AllXML\n",
    "      |    |    |...\n",
    "      |    |-MedicalReports\n",
    "      |    |    |...\n",
    "      |    |-PectoralMuscle\n",
    "      |    |    |-Pectoral Muscle ROI\n",
    "      |    |    |    |...\n",
    "      |    |    |-Pectoral Muscle XML\n",
    "      |    |    |    |...\n",
    "      |    |-inbreast.pdf\n",
    "      |    |-INbreast.csv\n",
    "      |    |-INbreast.xls\n",
    "      |    |-README.txt\n",
    "      |.ipynb_checkpoints (optional)\n",
    "      |    |-Birads-checkpoint.ipynb\n",
    "      |-Birads.ipynb"
   ]
  },
  {
   "cell_type": "markdown",
   "id": "b6d125a4",
   "metadata": {},
   "source": [
    "## Read Data"
   ]
  },
  {
   "cell_type": "code",
   "execution_count": 1,
   "id": "b23c57e8",
   "metadata": {},
   "outputs": [],
   "source": [
    "import os\n",
    "import pandas as pd\n",
    "import matplotlib.pyplot as plt"
   ]
  },
  {
   "cell_type": "code",
   "execution_count": 2,
   "id": "6edf6c51",
   "metadata": {},
   "outputs": [],
   "source": [
    "data_path = './INbreast Release 1.0'\n",
    "\n",
    "dicom_path = os.path.join(data_path, 'AllDICOMs')\n",
    "info_path = os.path.join(data_path, 'INbreast.csv')\n",
    "report_path = os.path.join(data_path, 'MedicalReports')\n",
    "\n",
    "image_path = os.path.join(data_path, 'Images')\n",
    "\n",
    "if not os.path.isdir(image_path):\n",
    "    os.mkdir(image_path)"
   ]
  },
  {
   "cell_type": "code",
   "execution_count": 3,
   "id": "76d11233",
   "metadata": {},
   "outputs": [
    {
     "name": "stdout",
     "output_type": "stream",
     "text": [
      "Found 410 DICOM objects\n"
     ]
    }
   ],
   "source": [
    "dicom_dict = {'StudyID':[], 'DICOMID':[], 'FileID':[]}\n",
    "for dicom in os.listdir(dicom_path):\n",
    "    if dicom.endswith('.dcm'):\n",
    "        file_id = dicom.split('_')[0]\n",
    "        study_id = dicom.split('_')[1]\n",
    "        dicom_dict['StudyID'].append(study_id)\n",
    "        dicom_dict['DICOMID'].append(dicom)\n",
    "        dicom_dict['FileID'].append(file_id)\n",
    "        \n",
    "df = pd.DataFrame.from_dict(dicom_dict, \n",
    "                            orient='columns')\n",
    "\n",
    "print(f\"Found {len(dicom_dict['StudyID'])} DICOM objects\")"
   ]
  },
  {
   "cell_type": "markdown",
   "id": "2458c7fc",
   "metadata": {},
   "source": [
    "### BIRADS and Patient Info"
   ]
  },
  {
   "cell_type": "code",
   "execution_count": 4,
   "id": "1398f4fe",
   "metadata": {},
   "outputs": [
    {
     "data": {
      "text/html": [
       "<div>\n",
       "<style scoped>\n",
       "    .dataframe tbody tr th:only-of-type {\n",
       "        vertical-align: middle;\n",
       "    }\n",
       "\n",
       "    .dataframe tbody tr th {\n",
       "        vertical-align: top;\n",
       "    }\n",
       "\n",
       "    .dataframe thead th {\n",
       "        text-align: right;\n",
       "    }\n",
       "</style>\n",
       "<table border=\"1\" class=\"dataframe\">\n",
       "  <thead>\n",
       "    <tr style=\"text-align: right;\">\n",
       "      <th></th>\n",
       "      <th>Laterality</th>\n",
       "      <th>View</th>\n",
       "      <th>Acquisition date</th>\n",
       "      <th>File Name</th>\n",
       "      <th>ACR</th>\n",
       "      <th>Bi-Rads</th>\n",
       "      <th>FileID</th>\n",
       "      <th>StudyID</th>\n",
       "      <th>DICOMID</th>\n",
       "    </tr>\n",
       "  </thead>\n",
       "  <tbody>\n",
       "    <tr>\n",
       "      <th>0</th>\n",
       "      <td>R</td>\n",
       "      <td>CC</td>\n",
       "      <td>201001</td>\n",
       "      <td>22678622</td>\n",
       "      <td>4</td>\n",
       "      <td>1</td>\n",
       "      <td>22678622</td>\n",
       "      <td>61b13c59bcba149e</td>\n",
       "      <td>22678622_61b13c59bcba149e_MG_R_CC_ANON.dcm</td>\n",
       "    </tr>\n",
       "    <tr>\n",
       "      <th>1</th>\n",
       "      <td>L</td>\n",
       "      <td>CC</td>\n",
       "      <td>201001</td>\n",
       "      <td>22678646</td>\n",
       "      <td>4</td>\n",
       "      <td>3</td>\n",
       "      <td>22678646</td>\n",
       "      <td>61b13c59bcba149e</td>\n",
       "      <td>22678646_61b13c59bcba149e_MG_L_CC_ANON.dcm</td>\n",
       "    </tr>\n",
       "    <tr>\n",
       "      <th>2</th>\n",
       "      <td>R</td>\n",
       "      <td>MLO</td>\n",
       "      <td>201001</td>\n",
       "      <td>22678670</td>\n",
       "      <td>4</td>\n",
       "      <td>1</td>\n",
       "      <td>22678670</td>\n",
       "      <td>61b13c59bcba149e</td>\n",
       "      <td>22678670_61b13c59bcba149e_MG_R_ML_ANON.dcm</td>\n",
       "    </tr>\n",
       "    <tr>\n",
       "      <th>3</th>\n",
       "      <td>L</td>\n",
       "      <td>MLO</td>\n",
       "      <td>201001</td>\n",
       "      <td>22678694</td>\n",
       "      <td>4</td>\n",
       "      <td>3</td>\n",
       "      <td>22678694</td>\n",
       "      <td>61b13c59bcba149e</td>\n",
       "      <td>22678694_61b13c59bcba149e_MG_L_ML_ANON.dcm</td>\n",
       "    </tr>\n",
       "    <tr>\n",
       "      <th>4</th>\n",
       "      <td>R</td>\n",
       "      <td>CC</td>\n",
       "      <td>201001</td>\n",
       "      <td>22614074</td>\n",
       "      <td>2</td>\n",
       "      <td>5</td>\n",
       "      <td>22614074</td>\n",
       "      <td>6bd24a0a42c19ce1</td>\n",
       "      <td>22614074_6bd24a0a42c19ce1_MG_R_CC_ANON.dcm</td>\n",
       "    </tr>\n",
       "    <tr>\n",
       "      <th>...</th>\n",
       "      <td>...</td>\n",
       "      <td>...</td>\n",
       "      <td>...</td>\n",
       "      <td>...</td>\n",
       "      <td>...</td>\n",
       "      <td>...</td>\n",
       "      <td>...</td>\n",
       "      <td>...</td>\n",
       "      <td>...</td>\n",
       "    </tr>\n",
       "    <tr>\n",
       "      <th>405</th>\n",
       "      <td>L</td>\n",
       "      <td>MLO</td>\n",
       "      <td>201001</td>\n",
       "      <td>22613848</td>\n",
       "      <td>2</td>\n",
       "      <td>1</td>\n",
       "      <td>22613848</td>\n",
       "      <td>45c7f44839fd9e68</td>\n",
       "      <td>22613848_45c7f44839fd9e68_MG_L_ML_ANON.dcm</td>\n",
       "    </tr>\n",
       "    <tr>\n",
       "      <th>406</th>\n",
       "      <td>L</td>\n",
       "      <td>MLO</td>\n",
       "      <td>200802</td>\n",
       "      <td>24055725</td>\n",
       "      <td>4</td>\n",
       "      <td>2</td>\n",
       "      <td>24055725</td>\n",
       "      <td>f0f1a133837b5137</td>\n",
       "      <td>24055725_f0f1a133837b5137_MG_L_ML_ANON.dcm</td>\n",
       "    </tr>\n",
       "    <tr>\n",
       "      <th>407</th>\n",
       "      <td>R</td>\n",
       "      <td>MLO</td>\n",
       "      <td>200802</td>\n",
       "      <td>24055752</td>\n",
       "      <td>4</td>\n",
       "      <td>2</td>\n",
       "      <td>24055752</td>\n",
       "      <td>f0f1a133837b5137</td>\n",
       "      <td>24055752_f0f1a133837b5137_MG_R_ML_ANON.dcm</td>\n",
       "    </tr>\n",
       "    <tr>\n",
       "      <th>408</th>\n",
       "      <td>L</td>\n",
       "      <td>CC</td>\n",
       "      <td>200802</td>\n",
       "      <td>24055779</td>\n",
       "      <td>4</td>\n",
       "      <td>2</td>\n",
       "      <td>24055779</td>\n",
       "      <td>f0f1a133837b5137</td>\n",
       "      <td>24055779_f0f1a133837b5137_MG_L_CC_ANON.dcm</td>\n",
       "    </tr>\n",
       "    <tr>\n",
       "      <th>409</th>\n",
       "      <td>R</td>\n",
       "      <td>CC</td>\n",
       "      <td>200802</td>\n",
       "      <td>24055806</td>\n",
       "      <td>4</td>\n",
       "      <td>2</td>\n",
       "      <td>24055806</td>\n",
       "      <td>f0f1a133837b5137</td>\n",
       "      <td>24055806_f0f1a133837b5137_MG_R_CC_ANON.dcm</td>\n",
       "    </tr>\n",
       "  </tbody>\n",
       "</table>\n",
       "<p>410 rows × 9 columns</p>\n",
       "</div>"
      ],
      "text/plain": [
       "    Laterality View  Acquisition date  File Name ACR Bi-Rads    FileID  \\\n",
       "0            R   CC            201001   22678622   4       1  22678622   \n",
       "1            L   CC            201001   22678646   4       3  22678646   \n",
       "2            R  MLO            201001   22678670   4       1  22678670   \n",
       "3            L  MLO            201001   22678694   4       3  22678694   \n",
       "4            R   CC            201001   22614074   2       5  22614074   \n",
       "..         ...  ...               ...        ...  ..     ...       ...   \n",
       "405          L  MLO            201001   22613848   2       1  22613848   \n",
       "406          L  MLO            200802   24055725   4       2  24055725   \n",
       "407          R  MLO            200802   24055752   4       2  24055752   \n",
       "408          L   CC            200802   24055779   4       2  24055779   \n",
       "409          R   CC            200802   24055806   4       2  24055806   \n",
       "\n",
       "              StudyID                                     DICOMID  \n",
       "0    61b13c59bcba149e  22678622_61b13c59bcba149e_MG_R_CC_ANON.dcm  \n",
       "1    61b13c59bcba149e  22678646_61b13c59bcba149e_MG_L_CC_ANON.dcm  \n",
       "2    61b13c59bcba149e  22678670_61b13c59bcba149e_MG_R_ML_ANON.dcm  \n",
       "3    61b13c59bcba149e  22678694_61b13c59bcba149e_MG_L_ML_ANON.dcm  \n",
       "4    6bd24a0a42c19ce1  22614074_6bd24a0a42c19ce1_MG_R_CC_ANON.dcm  \n",
       "..                ...                                         ...  \n",
       "405  45c7f44839fd9e68  22613848_45c7f44839fd9e68_MG_L_ML_ANON.dcm  \n",
       "406  f0f1a133837b5137  24055725_f0f1a133837b5137_MG_L_ML_ANON.dcm  \n",
       "407  f0f1a133837b5137  24055752_f0f1a133837b5137_MG_R_ML_ANON.dcm  \n",
       "408  f0f1a133837b5137  24055779_f0f1a133837b5137_MG_L_CC_ANON.dcm  \n",
       "409  f0f1a133837b5137  24055806_f0f1a133837b5137_MG_R_CC_ANON.dcm  \n",
       "\n",
       "[410 rows x 9 columns]"
      ]
     },
     "execution_count": 4,
     "metadata": {},
     "output_type": "execute_result"
    }
   ],
   "source": [
    "info_df = pd.read_csv(info_path, sep=';')\n",
    "info_df['FileID'] = info_df['File Name'].astype(str)\n",
    "info_df = info_df.drop('Patient ID', axis=1)\n",
    "info_df = info_df.drop('Patient age', axis=1)\n",
    "info_df = info_df.merge(df, on='FileID')\n",
    "info_df"
   ]
  },
  {
   "cell_type": "markdown",
   "id": "f3dac60e",
   "metadata": {},
   "source": [
    "### BIRADS Distribution"
   ]
  },
  {
   "cell_type": "code",
   "execution_count": 5,
   "id": "73f2a0df",
   "metadata": {},
   "outputs": [
    {
     "data": {
      "image/png": "[encoded data removed]",
      "text/plain": [
       "<Figure size 432x288 with 1 Axes>"
      ]
     },
     "metadata": {},
     "output_type": "display_data"
    }
   ],
   "source": [
    "birads = info_df['Bi-Rads'].value_counts()\n",
    "plt.pie(birads, autopct='%1.1f%%', radius=2)\n",
    "plt.title(\"BIRADS Distribution\")\n",
    "plt.legend(labels=birads.index.values)\n",
    "plt.show()"
   ]
  },
  {
   "cell_type": "markdown",
   "id": "08c0baa9",
   "metadata": {},
   "source": [
    "### Laterality Distribution"
   ]
  },
  {
   "cell_type": "code",
   "execution_count": 83,
   "id": "91753a17",
   "metadata": {},
   "outputs": [
    {
     "data": {
      "image/png": "[encoded data removed]",
      "text/plain": [
       "<Figure size 432x288 with 1 Axes>"
      ]
     },
     "metadata": {},
     "output_type": "display_data"
    }
   ],
   "source": [
    "birads = info_df['Laterality'].value_counts()\n",
    "plt.pie(birads, autopct='%1.1f%%', radius=2)\n",
    "plt.title(\"Laterality Distribution\")\n",
    "plt.legend(labels=birads.index.values)\n",
    "plt.show()"
   ]
  },
  {
   "cell_type": "markdown",
   "id": "499d8491",
   "metadata": {},
   "source": [
    "### View Distribution"
   ]
  },
  {
   "cell_type": "code",
   "execution_count": 84,
   "id": "f0adc2ff",
   "metadata": {},
   "outputs": [
    {
     "data": {
      "image/png": "[encoded data removed]",
      "text/plain": [
       "<Figure size 432x288 with 1 Axes>"
      ]
     },
     "metadata": {},
     "output_type": "display_data"
    }
   ],
   "source": [
    "birads = info_df['View'].value_counts()\n",
    "plt.pie(birads, autopct='%1.1f%%', radius=2)\n",
    "plt.title(\"View Distribution\")\n",
    "plt.legend(labels=birads.index.values)\n",
    "plt.show()"
   ]
  },
  {
   "cell_type": "markdown",
   "id": "f4a0ac00",
   "metadata": {},
   "source": [
    "### Medical Reports\n",
    "\n",
    "There are 117 reported images."
   ]
  },
  {
   "cell_type": "code",
   "execution_count": 8,
   "id": "c9c2fe06",
   "metadata": {},
   "outputs": [
    {
     "name": "stdout",
     "output_type": "stream",
     "text": [
      "Found 117 Medical Reports\n"
     ]
    }
   ],
   "source": [
    "report_dict = {'StudyID':[], 'ReportID':[]}\n",
    "for report in os.listdir(report_path):\n",
    "    if report.endswith('.txt'):\n",
    "        study_id = report[:-4]\n",
    "        report_dict['StudyID'].append(study_id)\n",
    "        report_dict['ReportID'].append(report)\n",
    "        \n",
    "report_df = pd.DataFrame.from_dict(report_dict, \n",
    "                            orient='columns')\n",
    "\n",
    "report_df = report_df.merge(df, on='StudyID')\n",
    "\n",
    "print(f\"Found {len(report_dict['StudyID'])} Medical Reports\")"
   ]
  },
  {
   "cell_type": "markdown",
   "id": "787715c0",
   "metadata": {},
   "source": [
    "# Prepare Data"
   ]
  },
  {
   "cell_type": "code",
   "execution_count": 9,
   "id": "e916cc0d",
   "metadata": {},
   "outputs": [],
   "source": [
    "import numpy as np\n",
    "import pydicom as dm\n",
    "from PIL import Image\n",
    "from skimage.transform import resize\n",
    "\n",
    "for dicom in df['DICOMID']:\n",
    "    path = os.path.join(dicom_path, dicom)\n",
    "    img = dm.dcmread(path)\n",
    "    img = img.pixel_array\n",
    "    img = np.array(img)\n",
    "    img = img / np.max(img)\n",
    "    img = img * 255\n",
    "    img = img.astype(np.uint8)\n",
    "    img = resize(img, (512, 512))\n",
    "    plt.imsave(os.path.join(image_path, dicom + '.png'), img, cmap='Greys_r')"
   ]
  },
  {
   "cell_type": "markdown",
   "id": "8c1bf439",
   "metadata": {},
   "source": [
    "# Model Creation"
   ]
  },
  {
   "cell_type": "code",
   "execution_count": 10,
   "id": "528271be",
   "metadata": {},
   "outputs": [],
   "source": [
    "import torchvision\n",
    "import torch.nn as nn\n",
    "\n",
    "from torchvision.models import resnet18, resnet34, resnet50, resnet101, resnet152"
   ]
  },
  {
   "cell_type": "markdown",
   "id": "39ee7ecc",
   "metadata": {},
   "source": [
    "Se considera un modelo de un encoder y dos cabezales. \n",
    "\n",
    "El encoder utilizado corresponde a un modelo ResNet-50, pues ha demostrado buen rendimiento en _image representation_.\n",
    "\n",
    "El primer cabezal consiste en una capa de tipo fully-connected, la cual mapea el vector de representaciones obtenido en el encoder, al espacio de salida de clasificación BIRADS (vector de tamaño 8 para BIRADS 0, 1, 2, 3A, 3B, 3C, 4 y 5).\n",
    "\n",
    "El segundo cabezal consiste en un decoder tipo BERT. Este modelo busca la conversión del vector de representaciones entregado por el encoder, a texto, específicamente para la generación de un pseudo informe.\n",
    "\n",
    "Se toma esta estructura debido al tamaño de los decoders y la data disponible. El decoder de clasificación es extremadamente ligero y presenta poca o nula pérdida de gradiente por gradiente desvaneciente. Además, hay mucha más data de clasificación que de reportes médicos. \n",
    "\n",
    "De esta manera, se sugiere el siguiente método de entrenamiento:\n",
    "\n",
    "    1- Entrenamiento cabezal de clasificación y encoder:\n",
    "        Este paso consiste en entrenar el modelo solamente para el problema de clasifiación. Esto permite entrenar el encoder con más data y con menor pérdida de gradiente.\n",
    "        \n",
    "    2- Fine-Tuning con cabezal de texto. En este paso se considera congelar todos los pesos del encoder. De esta manera, solo se entrena el cabezal de texto.\n",
    "    \n",
    "Esta metodología permite aprovechar de mejor manera los datos, sin gran sacrificio en términos de rendimiento."
   ]
  },
  {
   "cell_type": "code",
   "execution_count": 81,
   "id": "e44fb0e3",
   "metadata": {},
   "outputs": [],
   "source": [
    "# BIRADS: 0, 1, 2, 3A, 3B, 3C, 4 y 5\n",
    "class BIRADS_MODEL(nn.Module): \n",
    "    \n",
    "    def __init__(self, n_channels = 1, n_classes = 8, backbone = 'resnet18'):\n",
    "        \n",
    "        super(BIRADS_MODEL, self).__init__()\n",
    "        \n",
    "        if backbone == 'resnet18':\n",
    "            self.backbone = resnet18()\n",
    "            backbone_size = 512\n",
    "            \n",
    "        elif backbone == 'resnet34':\n",
    "            self.backbone = resnet34()\n",
    "            backbone_size = 512\n",
    "            \n",
    "        elif backbone == 'resnet50':\n",
    "            self.backbone = resnet50()\n",
    "            backbone_size = 2048\n",
    "            \n",
    "        elif backbone == 'resnet101':\n",
    "            self.backbone = resnet101()\n",
    "            backbone_size = 2048\n",
    "            \n",
    "        elif backbone == 'resnet152':\n",
    "            self.backbone = resnet152()\n",
    "            backbone_size = 2048\n",
    "            \n",
    "        self.backbone.fc = nn.Identity()\n",
    "        self.backbone.conv1 = torch.nn.Conv2d(1, 64, (7, 7), (2, 2), (3, 3), bias=False)\n",
    "        \n",
    "        self.class_head = nn.Linear(backbone_size, n_classes)\n",
    "        \n",
    "        self.sigmoid = nn.Sigmoid()\n",
    "        \n",
    "        self.report_cvt = nn.Linear(backbone_size, 512)\n",
    "        self.report_head = AutoModelForCausalLM.from_pretrained(\"bert-base-multilingual-cased\", is_decoder=True)\n",
    "        \n",
    "    def forward(self, x, classify = True, generate_report = True):\n",
    "        \n",
    "        x = self.backbone(x)\n",
    "        \n",
    "        cls = self.class_head(x) if classify else None\n",
    "        \n",
    "        x = self.report_cvt(x)\n",
    "        x = self.sigmoid(x) #Convert encoder output to int\n",
    "        x = x.int()\n",
    "        report = self.report_head(x) if generate_report else None\n",
    "        \n",
    "        return {\"BIRADS\": cls,\n",
    "                  \"Report\": report}"
   ]
  },
  {
   "cell_type": "code",
   "execution_count": 12,
   "id": "aa73b8d4",
   "metadata": {},
   "outputs": [],
   "source": [
    "import torch\n",
    "from torch.utils.data import Dataset\n",
    "\n",
    "class DefaultDataset(Dataset):\n",
    "    def __init__(self, df, img_size, img_dir):\n",
    "        super(DefaultDataset, self).__init__()\n",
    "        \n",
    "        self.df = df[['DICOMID', 'Bi-Rads']]\n",
    "        self.df['DICOMID'] = self.df['DICOMID'].apply(lambda x: img_dir + \"/\" + x + \".png\")\n",
    "        self.img_size = (img_size, img_size) if img_size is not None else None\n",
    "        \n",
    "        self.label_dict = {\"1\": 1,\n",
    "                           \"2\": 2,\n",
    "                           \"3\": 3,\n",
    "                           \"4a\": 4,\n",
    "                           \"4b\": 5,\n",
    "                           \"4c\":6,\n",
    "                           \"5\": 7,\n",
    "                           \"6\": 8}\n",
    "        \n",
    "        print(f\"Created Dataset with {len(df)} examples\")\n",
    "    \n",
    "    def preprocess(self, pil_img):\n",
    "        # Resize\n",
    "        if self.img_size:\n",
    "            pil_img = pil_img.resize(self.img_size, resample=Image.NEAREST)\n",
    "\n",
    "        pil_img = pil_img.convert('L')\n",
    "\n",
    "        # To ndarray\n",
    "        img_ndarray = np.asarray(pil_img, dtype=np.uint32)\n",
    "\n",
    "        img_ndarray = (img_ndarray * 255) // np.max(img_ndarray)\n",
    "\n",
    "        img_ndarray = img_ndarray.astype(np.uint8)\n",
    "        \n",
    "        if img_ndarray.ndim == 2:\n",
    "            img_ndarray = np.expand_dims(img_ndarray, 0)\n",
    "\n",
    "        return img_ndarray\n",
    "        \n",
    "    def __len__(self):\n",
    "        return len(self.df)\n",
    "    \n",
    "    def __getitem__(self, idx):\n",
    "        img_path = self.df['DICOMID'][idx]\n",
    "        img = Image.open(img_path)\n",
    "        img = self.preprocess(img)\n",
    "        img = torch.as_tensor(img.copy()).float().contiguous()\n",
    "        \n",
    "        label = self.df['Bi-Rads'][idx]\n",
    "        one_hot = np.zeros(8)\n",
    "        one_hot[self.label_dict[label]] = 1\n",
    "        one_hot = torch.as_tensor(one_hot.copy())\n",
    "        \n",
    "        return {'images': img, 'labels': one_hot}"
   ]
  },
  {
   "cell_type": "code",
   "execution_count": 58,
   "id": "6c15e874",
   "metadata": {},
   "outputs": [],
   "source": [
    "import torch\n",
    "import codecs\n",
    "from torch.utils.data import Dataset\n",
    "from transformers import AutoTokenizer\n",
    "\n",
    "class ReportDataset(Dataset):\n",
    "    def __init__(self, df, img_size, img_dir, report_dir):\n",
    "        super(ReportDataset, self).__init__()\n",
    "        \n",
    "        self.df = df[['DICOMID', 'ReportID']]\n",
    "        self.df['ReportID'] = self.df['ReportID'].apply(lambda x: report_dir + \"/\" + x)\n",
    "        self.df['DICOMID'] = self.df['DICOMID'].apply(lambda x: img_dir + \"/\" + x + \".png\")\n",
    "        self.img_size = (img_size, img_size) if img_size is not None else None\n",
    "        \n",
    "        print(f\"Created Dataset with {len(df)} examples\")\n",
    "    \n",
    "    def preprocess(self, pil_img):\n",
    "        # Resize\n",
    "        if self.img_size:\n",
    "            pil_img = pil_img.resize(self.img_size, resample=Image.NEAREST)\n",
    "\n",
    "        pil_img = pil_img.convert('L')\n",
    "\n",
    "        # To ndarray\n",
    "        img_ndarray = np.asarray(pil_img, dtype=np.uint32)\n",
    "\n",
    "        img_ndarray = (img_ndarray * 255) // np.max(img_ndarray)\n",
    "\n",
    "        img_ndarray = img_ndarray.astype(np.uint8)\n",
    "        \n",
    "        if img_ndarray.ndim == 2:\n",
    "            img_ndarray = np.expand_dims(img_ndarray, 0)\n",
    "\n",
    "        return img_ndarray\n",
    "        \n",
    "    def __len__(self):\n",
    "        return len(self.df)\n",
    "    \n",
    "    def __getitem__(self, idx):\n",
    "        img_path = self.df['DICOMID'][idx]\n",
    "        img = Image.open(img_path)\n",
    "        img = self.preprocess(img)\n",
    "        img = torch.as_tensor(img.copy()).float().contiguous()\n",
    "        \n",
    "        label_path = self.df['ReportID'][idx]\n",
    "        \n",
    "        with codecs.open(label_path, encoding='latin-1') as report:\n",
    "            \n",
    "            report = report.read()\n",
    "        \n",
    "            tokenizer = AutoTokenizer.from_pretrained(\"bert-base-multilingual-cased\")\n",
    "            \n",
    "            label = tokenizer(report, return_tensors='pt', padding='max_length', truncation=True)    \n",
    "            \n",
    "            return {'labels': label['input_ids'].flatten(),\n",
    "                    'images': img}\n",
    "        \n",
    "        raise Exception(\"FileNotFoundError\")"
   ]
  },
  {
   "cell_type": "markdown",
   "id": "7fee8afd",
   "metadata": {},
   "source": [
    "# Classification Training "
   ]
  },
  {
   "cell_type": "code",
   "execution_count": 13,
   "id": "e257684c",
   "metadata": {},
   "outputs": [
    {
     "name": "stdout",
     "output_type": "stream",
     "text": [
      "Requirement already satisfied: sentencepiece in /home/delas/.local/lib/python3.8/site-packages (0.1.99)\r\n",
      "Requirement already satisfied: sacremoses in /home/delas/.local/lib/python3.8/site-packages (0.0.53)\r\n",
      "Requirement already satisfied: click in /usr/lib/python3/dist-packages (from sacremoses) (7.0)\r\n",
      "Requirement already satisfied: tqdm in /home/delas/.local/lib/python3.8/site-packages (from sacremoses) (4.62.3)\r\n",
      "Requirement already satisfied: six in /usr/lib/python3/dist-packages (from sacremoses) (1.14.0)\r\n",
      "Requirement already satisfied: regex in /home/delas/.local/lib/python3.8/site-packages (from sacremoses) (2023.3.23)\r\n",
      "Requirement already satisfied: joblib in /home/delas/.local/lib/python3.8/site-packages (from sacremoses) (1.3.2)\r\n"
     ]
    }
   ],
   "source": [
    "!pip install sentencepiece sacremoses"
   ]
  },
  {
   "cell_type": "code",
   "execution_count": 14,
   "id": "ebab41c9",
   "metadata": {},
   "outputs": [
    {
     "name": "stderr",
     "output_type": "stream",
     "text": [
      "2023-10-31 13:45:53.138130: I tensorflow/core/platform/cpu_feature_guard.cc:182] This TensorFlow binary is optimized to use available CPU instructions in performance-critical operations.\n",
      "To enable the following instructions: AVX2 FMA, in other operations, rebuild TensorFlow with the appropriate compiler flags.\n",
      "2023-10-31 13:45:53.987397: W tensorflow/compiler/tf2tensorrt/utils/py_utils.cc:38] TF-TRT Warning: Could not find TensorRT\n"
     ]
    }
   ],
   "source": [
    "import logging\n",
    "import sys\n",
    "from pathlib import Path\n",
    "\n",
    "import torch\n",
    "import pickle\n",
    "import torch.nn as nn\n",
    "import torch.nn.functional as F\n",
    "import wandb\n",
    "from torch import optim\n",
    "from tqdm import tqdm\n",
    "from torch.utils.data import DataLoader, random_split\n",
    "\n",
    "import os\n",
    "import time\n",
    "import numpy as np\n",
    "import matplotlib.pyplot as plt\n",
    "\n",
    "import torchvision.models as models\n",
    "\n",
    "import sentencepiece\n",
    "import sacremoses\n",
    "\n",
    "from transformers import TrainingArguments, Trainer\n",
    "from transformers import AutoModelForCausalLM"
   ]
  },
  {
   "cell_type": "code",
   "execution_count": 15,
   "id": "31258fa4",
   "metadata": {},
   "outputs": [],
   "source": [
    "def evaluate(net, dataloader, device):\n",
    "    net.eval()\n",
    "    num_val_batches = len(dataloader)\n",
    "\n",
    "    score = 0\n",
    "\n",
    "        # iterate over the validation set\n",
    "    for batch in tqdm(dataloader, total=num_val_batches, desc='Validation round', unit='batch', leave=False):\n",
    "\n",
    "        image, mask_true = batch['images'], batch['labels']\n",
    "        # move images and labels to correct device and type\n",
    "        image = image.to(device=device, dtype=torch.float32)\n",
    "\n",
    "        with torch.no_grad():\n",
    "            # predict the mask\n",
    "            mask_pred = net(image, generate_report = False)['BIRADS']\n",
    "\n",
    "            thresh = torch.Tensor([0.5]).to(device=device, dtype=torch.float32)\n",
    "\n",
    "            one_hot = (mask_pred > thresh).bool()\n",
    "\n",
    "            true_one_hot = mask_true.to(device=device, dtype=torch.bool)\n",
    "\n",
    "            TP = torch.sum(true_one_hot * one_hot)\n",
    "            TN = torch.sum(~true_one_hot * ~one_hot)\n",
    "            FP = torch.sum(~true_one_hot * one_hot)\n",
    "            FN = torch.sum(true_one_hot * ~one_hot)\n",
    "\n",
    "            P = TP/(FP+TP+1e-8)\n",
    "            R = TP/(FN+TP+1e-8)\n",
    "\n",
    "            score += 2*P*R/(P+R+1e-8)\n",
    "\n",
    "            out = {'Accuracy': (TP+TN)/(TP+TN+FP+FN+1e-8),\n",
    "                'Sensitivity': TP/(TP+FN+1e-8),\n",
    "                'Specificity': TN/(TN+FP+1e-8)}\n",
    "\n",
    "    net.train()\n",
    "\n",
    "    # Fixes a potential division by zero error\n",
    "    if num_val_batches == 0:\n",
    "        return score, out\n",
    "    return score / num_val_batches, out"
   ]
  },
  {
   "cell_type": "code",
   "execution_count": 30,
   "id": "44756e2f",
   "metadata": {},
   "outputs": [],
   "source": [
    "def train_classification(data,\n",
    "                         data_path = image_path,\n",
    "                         model = BIRADS_MODEL,\n",
    "                         datagen = DefaultDataset,\n",
    "                         n_channels = 1,\n",
    "                         n_classes = 8,\n",
    "                         epochs = 40,\n",
    "                         lr = 0.001,\n",
    "                         validation = 30,\n",
    "                         batch_size = 4,\n",
    "                         size = 512,\n",
    "                         model_name = 'BIRADS_MODEL',\n",
    "                         save_checkpoint = \"./checkpoints/\"):\n",
    "    \n",
    "    net = model(n_channels = n_channels,\n",
    "                n_classes = n_classes)\n",
    "\n",
    "    device = torch.device('cuda' if torch.cuda.is_available() else 'cpu')\n",
    "\n",
    "    # Log info\n",
    "    logging.basicConfig(level=logging.INFO, format='%(levelname)s: %(message)s')\n",
    "    logging.info(f'Using device {device}')\n",
    "\n",
    "    # 1. Dataset Creation and Network Building\n",
    "    dataset = DefaultDataset(data, img_size=size, img_dir=data_path)\n",
    "\n",
    "    net.to(device=device)\n",
    "    \n",
    "    if device == 'cuda':\n",
    "        torch.cuda.empty_cache()\n",
    "\n",
    "    # 2. Dataset Splitting and Data Loading\n",
    "    n_val = int(len(dataset) * validation/100)\n",
    "    n_train = len(dataset) - n_val\n",
    "    train_set, val_set = random_split(dataset, [n_train, n_val], generator=torch.Generator().manual_seed(0))\n",
    "\n",
    "    loader_args = dict(batch_size=batch_size, num_workers=4, pin_memory=True)\n",
    "    train_loader = DataLoader(train_set, shuffle=True, **loader_args)\n",
    "    val_loader = DataLoader(val_set, shuffle=False, drop_last=True, **loader_args)\n",
    "\n",
    "    # 3. Initialize Training Modules\n",
    "    optimizer = optim.Adam(net.parameters(), lr=lr)\n",
    "    scheduler = optim.lr_scheduler.ReduceLROnPlateau(optimizer, 'max', patience=2, factor=0.5)\n",
    "    criterion = nn.CrossEntropyLoss()\n",
    "    grad_scaler = torch.cuda.amp.GradScaler(enabled=False)\n",
    "\n",
    "    experiment = wandb.init(project=model_name, resume='allow', anonymous='must')\n",
    "    experiment.config.update(dict(epochs=epochs, batch_size=batch_size, learning_rate=lr,\n",
    "                          val_percent=validation, save_checkpoint=save_checkpoint, img_size=size,\n",
    "                          amp=False, lr_scheduler=scheduler, optimizer='Adam', model=model_name))\n",
    "\n",
    "\n",
    "    logging.info(f'''Starting training:\n",
    "        Model:                  {model_name}\n",
    "        Epochs:                 {epochs}\n",
    "        Batch size:             {batch_size}\n",
    "        Learning rate:          {1e-3}\n",
    "        Training size:          {n_train}\n",
    "        Validation size:        {n_val}\n",
    "        Checkpoints:            {save_checkpoint}\n",
    "        Device:                 {device.type}\n",
    "        Images resizing:        {size}\n",
    "    ''')\n",
    "\n",
    "    # 5. Train model\n",
    "    global_step = 0\n",
    "    train_score = []\n",
    "    validation_score = []\n",
    "    batch_validation_score = []\n",
    "    learnig_rate_val = []\n",
    "\n",
    "    accuracy = []\n",
    "    sensitivity = []\n",
    "    specificity = []\n",
    "\n",
    "    for epoch in range(1, epochs+1):\n",
    "\n",
    "        # Initialize Net and Epoch \n",
    "        net.train()\n",
    "        epoch_loss = 0\n",
    "\n",
    "        # \n",
    "        with tqdm(total=n_train, desc=f'Epoch {epoch}/{epochs}', unit='img') as pbar:\n",
    "            for batch in train_loader:\n",
    "                images = batch['images']\n",
    "                labels = batch['labels']\n",
    "\n",
    "                assert images.shape[1] == n_channels, \\\n",
    "                    f'Network has been defined with {n_channels} input channels, ' \\\n",
    "                    f'but loaded images have {images.shape[1]} channels. Please check that ' \\\n",
    "                    'the images are loaded correctly.'\n",
    "\n",
    "                images = images.to(device=device, dtype=torch.float32)\n",
    "                ####################################################################################\n",
    "                true_masks = labels.to(device=device, dtype=torch.long)\n",
    "\n",
    "                with torch.cuda.amp.autocast(enabled=False):\n",
    "                    masks_pred = net(images, generate_report = False)[\"BIRADS\"] ######## REPORT ########\n",
    "                    loss = criterion(masks_pred, true_masks.float())\n",
    "\n",
    "                optimizer.zero_grad(set_to_none=True)\n",
    "                grad_scaler.scale(loss).backward()\n",
    "                grad_scaler.step(optimizer)\n",
    "                grad_scaler.update()\n",
    "\n",
    "                pbar.update(images.shape[0])\n",
    "                global_step += 1\n",
    "                epoch_loss += loss.item()\n",
    "                experiment.log({\n",
    "                    'train loss': loss.item(),\n",
    "                    'step': global_step,\n",
    "                    'epoch': epoch\n",
    "                })\n",
    "                pbar.set_postfix(**{'loss (batch)': loss.item()})\n",
    "\n",
    "                # Evaluation round\n",
    "                division_step = (n_train // (10 * batch_size))\n",
    "                if division_step > 0:\n",
    "                    if global_step % division_step == 0:\n",
    "                        val_score, _ = evaluate(net, val_loader, device)\n",
    "                        batch_validation_score.append(val_score.cpu())\n",
    "\n",
    "                        logging.info('Validation F1 Score: {}'.format(val_score))\n",
    "                        experiment.log({\n",
    "                            'learning rate': optimizer.param_groups[0]['lr'],\n",
    "                            'validation Score': val_score,\n",
    "                            'images': wandb.Image(images[0].cpu()),\n",
    "                            'step': global_step,\n",
    "                            'epoch': epoch\n",
    "                        })\n",
    "            val_score, val_info = evaluate(net, val_loader, device)\n",
    "            scheduler.step(val_score)\n",
    "            validation_score.append(val_score.cpu())\n",
    "            trn_score, trn_info = evaluate(net, train_loader, device)\n",
    "            train_score.append(trn_score.cpu())\n",
    "            learnig_rate_val.append(optimizer.param_groups[0]['lr'])\n",
    "\n",
    "            accuracy.append(val_info['Accuracy'].cpu())\n",
    "            sensitivity.append(val_info['Sensitivity'].cpu())\n",
    "            specificity.append(val_info['Specificity'].cpu())\n",
    "\n",
    "        if save_checkpoint:\n",
    "            Path(save_checkpoint).mkdir(parents=True, exist_ok=True)\n",
    "            torch.save(net.state_dict(), str(save_checkpoint + 'checkpoint_epoch{}.pth'.format(epoch)))\n",
    "            logging.info(f'Checkpoint {epoch} saved!')\n",
    "            with open(str(save_checkpoint)+f\"Train_Info.pkl\", 'wb') as fp:\n",
    "                pickle.dump(trn_info, fp)\n",
    "                print('Train Info saved successfully to file')\n",
    "            with open(str(save_checkpoint)+f\"Validation_Info.pkl\", 'wb') as fp:\n",
    "                val_info = {\"Accuracy\": accuracy,\n",
    "                           \"Sensitivity\": sensitivity,\n",
    "                           \"Specificity\": specificity}\n",
    "                pickle.dump(val_info, fp)\n",
    "                print('Validation Info saved successfully to file')\n",
    "            plt.plot(accuracy)\n",
    "            plt.savefig(str(save_checkpoint) + \"Accuracy.png\")\n",
    "            plt.plot(sensitivity)\n",
    "            plt.savefig(str(save_checkpoint) + \"Sensitivity.png\")\n",
    "            plt.plot(specificity)\n",
    "            plt.savefig(str(save_checkpoint) + \"Specificity.png\")\n"
   ]
  },
  {
   "cell_type": "markdown",
   "id": "55d19c6d",
   "metadata": {},
   "source": [
    "WARNING: RUNNING THIS NEXT CELL WILL DELETE EVERYTHING IN CHEKPOINTS FOLDER"
   ]
  },
  {
   "cell_type": "code",
   "execution_count": 31,
   "id": "65151e5a",
   "metadata": {},
   "outputs": [
    {
     "name": "stderr",
     "output_type": "stream",
     "text": [
      "Some weights of the model checkpoint at bert-base-multilingual-cased were not used when initializing BertLMHeadModel: ['cls.seq_relationship.weight', 'cls.seq_relationship.bias']\n",
      "- This IS expected if you are initializing BertLMHeadModel from the checkpoint of a model trained on another task or with another architecture (e.g. initializing a BertForSequenceClassification model from a BertForPreTraining model).\n",
      "- This IS NOT expected if you are initializing BertLMHeadModel from the checkpoint of a model that you expect to be exactly identical (initializing a BertForSequenceClassification model from a BertForSequenceClassification model).\n",
      "INFO: Using device cuda\n"
     ]
    },
    {
     "name": "stdout",
     "output_type": "stream",
     "text": [
      "Created Dataset with 410 examples\n"
     ]
    },
    {
     "name": "stderr",
     "output_type": "stream",
     "text": [
      "/tmp/ipykernel_244206/1769844400.py:9: SettingWithCopyWarning: \n",
      "A value is trying to be set on a copy of a slice from a DataFrame.\n",
      "Try using .loc[row_indexer,col_indexer] = value instead\n",
      "\n",
      "See the caveats in the documentation: https://pandas.pydata.org/pandas-docs/stable/user_guide/indexing.html#returning-a-view-versus-a-copy\n",
      "  self.df['DICOMID'] = self.df['DICOMID'].apply(lambda x: img_dir + \"/\" + x + \".png\")\n"
     ]
    },
    {
     "data": {
      "text/html": [
       "Finishing last run (ID:1ghakim9) before initializing another..."
      ],
      "text/plain": [
       "<IPython.core.display.HTML object>"
      ]
     },
     "metadata": {},
     "output_type": "display_data"
    },
    {
     "data": {
      "text/html": [
       "Waiting for W&B process to finish... <strong style=\"color:green\">(success).</strong>"
      ],
      "text/plain": [
       "<IPython.core.display.HTML object>"
      ]
     },
     "metadata": {},
     "output_type": "display_data"
    },
    {
     "data": {
      "application/vnd.jupyter.widget-view+json": {
       "model_id": "",
       "version_major": 2,
       "version_minor": 0
      },
      "text/plain": [
       "VBox(children=(Label(value='0.001 MB of 0.001 MB uploaded (0.000 MB deduped)\\r'), FloatProgress(value=1.0, max…"
      ]
     },
     "metadata": {},
     "output_type": "display_data"
    },
    {
     "data": {
      "text/html": [
       "<style>\n",
       "    table.wandb td:nth-child(1) { padding: 0 10px; text-align: left ; width: auto;} td:nth-child(2) {text-align: left ; width: 100%}\n",
       "    .wandb-row { display: flex; flex-direction: row; flex-wrap: wrap; justify-content: flex-start; width: 100% }\n",
       "    .wandb-col { display: flex; flex-direction: column; flex-basis: 100%; flex: 1; padding: 10px; }\n",
       "    </style>\n",
       "<div class=\"wandb-row\"><div class=\"wandb-col\"><h3>Run history:</h3><br/><table class=\"wandb\"><tr><td>epoch</td><td>▁▁▁▁▁▁▁▁▁</td></tr><tr><td>step</td><td>▁▂▃▄▅▅▆▇█</td></tr><tr><td>train loss</td><td>█▅▄▂▁▂▂▄▁</td></tr></table><br/></div><div class=\"wandb-col\"><h3>Run summary:</h3><br/><table class=\"wandb\"><tr><td>epoch</td><td>1</td></tr><tr><td>step</td><td>9</td></tr><tr><td>train loss</td><td>1.32001</td></tr></table><br/></div></div>"
      ],
      "text/plain": [
       "<IPython.core.display.HTML object>"
      ]
     },
     "metadata": {},
     "output_type": "display_data"
    },
    {
     "data": {
      "text/html": [
       "Synced <strong style=\"color:#cdcd00\">mystical-disguise-40</strong>: <a href=\"https://wandb.ai/anony-moose-255327/BIRADS_MODEL/runs/1ghakim9?apiKey=e6b345a932991bce56b0fcf649f497558f53be42\" target=\"_blank\">https://wandb.ai/anony-moose-255327/BIRADS_MODEL/runs/1ghakim9?apiKey=e6b345a932991bce56b0fcf649f497558f53be42</a><br/>Synced 5 W&B file(s), 0 media file(s), 0 artifact file(s) and 0 other file(s)"
      ],
      "text/plain": [
       "<IPython.core.display.HTML object>"
      ]
     },
     "metadata": {},
     "output_type": "display_data"
    },
    {
     "data": {
      "text/html": [
       "Find logs at: <code>./wandb/run-20231030_184723-1ghakim9/logs</code>"
      ],
      "text/plain": [
       "<IPython.core.display.HTML object>"
      ]
     },
     "metadata": {},
     "output_type": "display_data"
    },
    {
     "data": {
      "text/html": [
       "Successfully finished last run (ID:1ghakim9). Initializing new run:<br/>"
      ],
      "text/plain": [
       "<IPython.core.display.HTML object>"
      ]
     },
     "metadata": {},
     "output_type": "display_data"
    },
    {
     "name": "stderr",
     "output_type": "stream",
     "text": [
      "2023-10-30 18:48:32.212195: W tensorflow/compiler/tf2tensorrt/utils/py_utils.cc:38] TF-TRT Warning: Could not find TensorRT\n"
     ]
    },
    {
     "data": {
      "text/html": [
       "wandb version 0.15.12 is available!  To upgrade, please run:\n",
       " $ pip install wandb --upgrade"
      ],
      "text/plain": [
       "<IPython.core.display.HTML object>"
      ]
     },
     "metadata": {},
     "output_type": "display_data"
    },
    {
     "data": {
      "text/html": [
       "Tracking run with wandb version 0.12.16"
      ],
      "text/plain": [
       "<IPython.core.display.HTML object>"
      ]
     },
     "metadata": {},
     "output_type": "display_data"
    },
    {
     "data": {
      "text/html": [
       "Run data is saved locally in <code>/media/delas/RetinaRX/Memoria/Models/Models/Github/ChestQualityAssurance/PMV-BIRADS/wandb/run-20231030_184825-ef9fxz9n</code>"
      ],
      "text/plain": [
       "<IPython.core.display.HTML object>"
      ]
     },
     "metadata": {},
     "output_type": "display_data"
    },
    {
     "data": {
      "text/html": [
       "Syncing run <strong><a href=\"https://wandb.ai/anony-moose-255327/BIRADS_MODEL/runs/ef9fxz9n?apiKey=e6b345a932991bce56b0fcf649f497558f53be42\" target=\"_blank\">spooky-newt-41</a></strong> to <a href=\"https://wandb.ai/anony-moose-255327/BIRADS_MODEL?apiKey=e6b345a932991bce56b0fcf649f497558f53be42\" target=\"_blank\">Weights & Biases</a> (<a href=\"https://wandb.me/run\" target=\"_blank\">docs</a>)<br/>"
      ],
      "text/plain": [
       "<IPython.core.display.HTML object>"
      ]
     },
     "metadata": {},
     "output_type": "display_data"
    },
    {
     "name": "stderr",
     "output_type": "stream",
     "text": [
      "INFO: Starting training:\n",
      "        Model:                  BIRADS_MODEL\n",
      "        Epochs:                 40\n",
      "        Batch size:             32\n",
      "        Learning rate:          0.001\n",
      "        Training size:          287\n",
      "        Validation size:        123\n",
      "        Checkpoints:            ./checkpoints/\n",
      "        Device:                 cuda\n",
      "        Images resizing:        512\n",
      "    \n",
      "Epoch 1/40: 100%|████████| 287/287 [00:01<00:00, 228.64img/s, loss (batch)=1.51]\n",
      "Validation round:   0%|                                | 0/3 [00:00<?, ?batch/s]\u001b[A\n",
      "Validation round:  33%|████████                | 1/3 [00:00<00:00,  2.39batch/s]\u001b[A\n",
      "                                                                                \u001b[A\n",
      "Validation round:   0%|                                | 0/9 [00:00<?, ?batch/s]\u001b[A\n",
      "Validation round:  11%|██▋                     | 1/9 [00:00<00:03,  2.22batch/s]\u001b[A\n",
      "Validation round:  44%|██████████▋             | 4/9 [00:00<00:00,  8.56batch/s]\u001b[A\n",
      "Validation round:  78%|██████████████████▋     | 7/9 [00:00<00:00, 13.17batch/s]\u001b[A\n",
      "Epoch 1/40: 100%|█████████| 287/287 [00:03<00:00, 90.06img/s, loss (batch)=1.51]\u001b[A\n",
      "INFO: Checkpoint 1 saved!\n"
     ]
    },
    {
     "name": "stdout",
     "output_type": "stream",
     "text": [
      "Train Info saved successfully to file\n",
      "Validation Info saved successfully to file\n"
     ]
    },
    {
     "name": "stderr",
     "output_type": "stream",
     "text": [
      "Epoch 2/40: 100%|████████| 287/287 [00:01<00:00, 233.61img/s, loss (batch)=1.21]\n",
      "Validation round:   0%|                                | 0/3 [00:00<?, ?batch/s]\u001b[A\n",
      "Validation round:  33%|████████                | 1/3 [00:00<00:00,  2.31batch/s]\u001b[A\n",
      "                                                                                \u001b[A\n",
      "Validation round:   0%|                                | 0/9 [00:00<?, ?batch/s]\u001b[A\n",
      "Validation round:  11%|██▋                     | 1/9 [00:00<00:03,  2.20batch/s]\u001b[A\n",
      "Validation round:  44%|██████████▋             | 4/9 [00:00<00:00,  8.46batch/s]\u001b[A\n",
      "Validation round:  78%|██████████████████▋     | 7/9 [00:00<00:00, 12.77batch/s]\u001b[A\n",
      "Epoch 2/40: 100%|█████████| 287/287 [00:03<00:00, 89.57img/s, loss (batch)=1.21]\u001b[A\n",
      "INFO: Checkpoint 2 saved!\n"
     ]
    },
    {
     "name": "stdout",
     "output_type": "stream",
     "text": [
      "Train Info saved successfully to file\n",
      "Validation Info saved successfully to file\n"
     ]
    },
    {
     "name": "stderr",
     "output_type": "stream",
     "text": [
      "Epoch 3/40: 100%|████████| 287/287 [00:01<00:00, 235.15img/s, loss (batch)=1.17]\n",
      "Validation round:   0%|                                | 0/3 [00:00<?, ?batch/s]\u001b[A\n",
      "Validation round:  33%|████████                | 1/3 [00:00<00:00,  2.30batch/s]\u001b[A\n",
      "                                                                                \u001b[A\n",
      "Validation round:   0%|                                | 0/9 [00:00<?, ?batch/s]\u001b[A\n",
      "Validation round:  11%|██▋                     | 1/9 [00:00<00:03,  2.31batch/s]\u001b[A\n",
      "Validation round:  44%|██████████▋             | 4/9 [00:00<00:00,  8.71batch/s]\u001b[A\n",
      "Validation round:  78%|██████████████████▋     | 7/9 [00:00<00:00, 13.07batch/s]\u001b[A\n",
      "Epoch 3/40: 100%|█████████| 287/287 [00:03<00:00, 90.95img/s, loss (batch)=1.17]\u001b[A\n",
      "INFO: Checkpoint 3 saved!\n"
     ]
    },
    {
     "name": "stdout",
     "output_type": "stream",
     "text": [
      "Train Info saved successfully to file\n",
      "Validation Info saved successfully to file\n"
     ]
    },
    {
     "name": "stderr",
     "output_type": "stream",
     "text": [
      "Epoch 4/40: 100%|████████| 287/287 [00:01<00:00, 232.42img/s, loss (batch)=1.68]\n",
      "Validation round:   0%|                                | 0/3 [00:00<?, ?batch/s]\u001b[A\n",
      "Validation round:  33%|████████                | 1/3 [00:00<00:00,  2.33batch/s]\u001b[A\n",
      "                                                                                \u001b[A\n",
      "Validation round:   0%|                                | 0/9 [00:00<?, ?batch/s]\u001b[A\n",
      "Validation round:  11%|██▋                     | 1/9 [00:00<00:03,  2.28batch/s]\u001b[A\n",
      "Validation round:  44%|██████████▋             | 4/9 [00:00<00:00,  8.72batch/s]\u001b[A\n",
      "Validation round:  67%|████████████████        | 6/9 [00:00<00:00, 11.17batch/s]\u001b[A\n",
      "Validation round: 100%|████████████████████████| 9/9 [00:00<00:00, 15.41batch/s]\u001b[A\n",
      "Epoch 4/40: 100%|█████████| 287/287 [00:03<00:00, 90.94img/s, loss (batch)=1.68]\u001b[A\n",
      "INFO: Checkpoint 4 saved!\n"
     ]
    },
    {
     "name": "stdout",
     "output_type": "stream",
     "text": [
      "Train Info saved successfully to file\n",
      "Validation Info saved successfully to file\n"
     ]
    },
    {
     "name": "stderr",
     "output_type": "stream",
     "text": [
      "Epoch 5/40: 100%|████████| 287/287 [00:01<00:00, 231.65img/s, loss (batch)=1.07]\n",
      "Validation round:   0%|                                | 0/3 [00:00<?, ?batch/s]\u001b[A\n",
      "Validation round:  33%|████████                | 1/3 [00:00<00:00,  2.33batch/s]\u001b[A\n",
      "                                                                                \u001b[A\n",
      "Validation round:   0%|                                | 0/9 [00:00<?, ?batch/s]\u001b[A\n",
      "Validation round:  11%|██▋                     | 1/9 [00:00<00:03,  2.21batch/s]\u001b[A\n",
      "Validation round:  44%|██████████▋             | 4/9 [00:00<00:00,  8.54batch/s]\u001b[A\n",
      "Validation round:  78%|██████████████████▋     | 7/9 [00:00<00:00, 13.21batch/s]\u001b[A\n",
      "Epoch 5/40: 100%|█████████| 287/287 [00:03<00:00, 90.16img/s, loss (batch)=1.07]\u001b[A\n",
      "INFO: Checkpoint 5 saved!\n"
     ]
    },
    {
     "name": "stdout",
     "output_type": "stream",
     "text": [
      "Train Info saved successfully to file\n",
      "Validation Info saved successfully to file\n"
     ]
    },
    {
     "name": "stderr",
     "output_type": "stream",
     "text": [
      "Epoch 6/40: 100%|████████| 287/287 [00:01<00:00, 229.85img/s, loss (batch)=1.19]\n",
      "Validation round:   0%|                                | 0/3 [00:00<?, ?batch/s]\u001b[A\n",
      "Validation round:  33%|████████                | 1/3 [00:00<00:00,  2.25batch/s]\u001b[A\n",
      "                                                                                \u001b[A\n",
      "Validation round:   0%|                                | 0/9 [00:00<?, ?batch/s]\u001b[A\n",
      "Validation round:  11%|██▋                     | 1/9 [00:00<00:03,  2.20batch/s]\u001b[A\n",
      "Validation round:  44%|██████████▋             | 4/9 [00:00<00:00,  8.42batch/s]\u001b[A\n",
      "Validation round:  67%|████████████████        | 6/9 [00:00<00:00, 11.12batch/s]\u001b[A\n",
      "Validation round: 100%|████████████████████████| 9/9 [00:00<00:00, 15.11batch/s]\u001b[A\n",
      "Epoch 6/40: 100%|█████████| 287/287 [00:03<00:00, 89.03img/s, loss (batch)=1.19]\u001b[A\n",
      "INFO: Checkpoint 6 saved!\n"
     ]
    },
    {
     "name": "stdout",
     "output_type": "stream",
     "text": [
      "Train Info saved successfully to file\n",
      "Validation Info saved successfully to file\n"
     ]
    },
    {
     "name": "stderr",
     "output_type": "stream",
     "text": [
      "Epoch 7/40: 100%|████████| 287/287 [00:01<00:00, 228.84img/s, loss (batch)=1.29]\n",
      "Validation round:   0%|                                | 0/3 [00:00<?, ?batch/s]\u001b[A\n",
      "Validation round:  33%|████████                | 1/3 [00:00<00:00,  2.17batch/s]\u001b[A\n",
      "                                                                                \u001b[A\n",
      "Validation round:   0%|                                | 0/9 [00:00<?, ?batch/s]\u001b[A\n",
      "Validation round:  11%|██▋                     | 1/9 [00:00<00:03,  2.31batch/s]\u001b[A\n",
      "Validation round:  44%|██████████▋             | 4/9 [00:00<00:00,  8.71batch/s]\u001b[A\n",
      "Validation round:  67%|████████████████        | 6/9 [00:00<00:00, 11.18batch/s]\u001b[A\n",
      "Validation round: 100%|████████████████████████| 9/9 [00:00<00:00, 15.06batch/s]\u001b[A\n",
      "Epoch 7/40: 100%|█████████| 287/287 [00:03<00:00, 88.08img/s, loss (batch)=1.29]\u001b[A\n",
      "INFO: Checkpoint 7 saved!\n"
     ]
    },
    {
     "name": "stdout",
     "output_type": "stream",
     "text": [
      "Train Info saved successfully to file\n",
      "Validation Info saved successfully to file\n"
     ]
    },
    {
     "name": "stderr",
     "output_type": "stream",
     "text": [
      "Epoch 8/40: 100%|████████| 287/287 [00:01<00:00, 231.72img/s, loss (batch)=1.26]\n",
      "Validation round:   0%|                                | 0/3 [00:00<?, ?batch/s]\u001b[A\n",
      "Validation round:  33%|████████                | 1/3 [00:00<00:00,  2.29batch/s]\u001b[A\n",
      "                                                                                \u001b[A\n",
      "Validation round:   0%|                                | 0/9 [00:00<?, ?batch/s]\u001b[A\n",
      "Validation round:  11%|██▋                     | 1/9 [00:00<00:03,  2.37batch/s]\u001b[A\n",
      "Validation round:  44%|██████████▋             | 4/9 [00:00<00:00,  8.84batch/s]\u001b[A\n",
      "Validation round:  78%|██████████████████▋     | 7/9 [00:00<00:00, 13.16batch/s]\u001b[A\n",
      "Epoch 8/40: 100%|█████████| 287/287 [00:03<00:00, 90.72img/s, loss (batch)=1.26]\u001b[A\n",
      "INFO: Checkpoint 8 saved!\n"
     ]
    },
    {
     "name": "stdout",
     "output_type": "stream",
     "text": [
      "Train Info saved successfully to file\n",
      "Validation Info saved successfully to file\n"
     ]
    },
    {
     "name": "stderr",
     "output_type": "stream",
     "text": [
      "Epoch 9/40: 100%|████████| 287/287 [00:01<00:00, 229.02img/s, loss (batch)=1.37]\n",
      "Validation round:   0%|                                | 0/3 [00:00<?, ?batch/s]\u001b[A\n",
      "Validation round:  33%|████████                | 1/3 [00:00<00:00,  2.26batch/s]\u001b[A\n",
      "                                                                                \u001b[A\n",
      "Validation round:   0%|                                | 0/9 [00:00<?, ?batch/s]\u001b[A\n",
      "Validation round:  11%|██▋                     | 1/9 [00:00<00:03,  2.24batch/s]\u001b[A\n",
      "Validation round:  44%|██████████▋             | 4/9 [00:00<00:00,  8.61batch/s]\u001b[A\n",
      "Validation round:  67%|████████████████        | 6/9 [00:00<00:00, 11.36batch/s]\u001b[A\n",
      "Validation round: 100%|████████████████████████| 9/9 [00:00<00:00, 15.25batch/s]\u001b[A\n",
      "Epoch 9/40: 100%|█████████| 287/287 [00:03<00:00, 89.35img/s, loss (batch)=1.37]\u001b[A\n",
      "INFO: Checkpoint 9 saved!\n"
     ]
    },
    {
     "name": "stdout",
     "output_type": "stream",
     "text": [
      "Train Info saved successfully to file\n",
      "Validation Info saved successfully to file\n"
     ]
    },
    {
     "name": "stderr",
     "output_type": "stream",
     "text": [
      "Epoch 10/40: 100%|███████| 287/287 [00:01<00:00, 229.02img/s, loss (batch)=1.17]\n",
      "Validation round:   0%|                                | 0/3 [00:00<?, ?batch/s]\u001b[A\n",
      "Validation round:  33%|████████                | 1/3 [00:00<00:00,  2.37batch/s]\u001b[A\n",
      "                                                                                \u001b[A\n",
      "Validation round:   0%|                                | 0/9 [00:00<?, ?batch/s]\u001b[A\n",
      "Validation round:  11%|██▋                     | 1/9 [00:00<00:03,  2.24batch/s]\u001b[A\n",
      "Validation round:  44%|██████████▋             | 4/9 [00:00<00:00,  8.60batch/s]\u001b[A\n",
      "Validation round:  67%|████████████████        | 6/9 [00:00<00:00, 11.07batch/s]\u001b[A\n",
      "Validation round: 100%|████████████████████████| 9/9 [00:00<00:00, 14.53batch/s]\u001b[A\n",
      "Epoch 10/40: 100%|████████| 287/287 [00:03<00:00, 88.41img/s, loss (batch)=1.17]\u001b[A\n",
      "INFO: Checkpoint 10 saved!\n"
     ]
    },
    {
     "name": "stdout",
     "output_type": "stream",
     "text": [
      "Train Info saved successfully to file\n",
      "Validation Info saved successfully to file\n"
     ]
    },
    {
     "name": "stderr",
     "output_type": "stream",
     "text": [
      "Epoch 11/40: 100%|███████| 287/287 [00:01<00:00, 227.12img/s, loss (batch)=1.15]\n",
      "Validation round:   0%|                                | 0/3 [00:00<?, ?batch/s]\u001b[A\n",
      "Validation round:  33%|████████                | 1/3 [00:00<00:00,  2.35batch/s]\u001b[A\n",
      "                                                                                \u001b[A\n",
      "Validation round:   0%|                                | 0/9 [00:00<?, ?batch/s]\u001b[A\n",
      "Validation round:  11%|██▋                     | 1/9 [00:00<00:03,  2.33batch/s]\u001b[A\n",
      "Validation round:  44%|██████████▋             | 4/9 [00:00<00:00,  8.87batch/s]\u001b[A\n",
      "Validation round:  67%|████████████████        | 6/9 [00:00<00:00, 11.55batch/s]\u001b[A\n",
      "Validation round: 100%|████████████████████████| 9/9 [00:00<00:00, 14.93batch/s]\u001b[A\n",
      "Epoch 11/40: 100%|████████| 287/287 [00:03<00:00, 88.47img/s, loss (batch)=1.15]\u001b[A\n",
      "INFO: Checkpoint 11 saved!\n"
     ]
    },
    {
     "name": "stdout",
     "output_type": "stream",
     "text": [
      "Train Info saved successfully to file\n",
      "Validation Info saved successfully to file\n"
     ]
    },
    {
     "name": "stderr",
     "output_type": "stream",
     "text": [
      "Epoch 12/40: 100%|███████| 287/287 [00:01<00:00, 231.78img/s, loss (batch)=0.91]\n",
      "Validation round:   0%|                                | 0/3 [00:00<?, ?batch/s]\u001b[A\n",
      "Validation round:  33%|████████                | 1/3 [00:00<00:00,  2.16batch/s]\u001b[A\n",
      "                                                                                \u001b[A\n",
      "Validation round:   0%|                                | 0/9 [00:00<?, ?batch/s]\u001b[A\n",
      "Validation round:  11%|██▋                     | 1/9 [00:00<00:03,  2.25batch/s]\u001b[A\n",
      "Validation round:  44%|██████████▋             | 4/9 [00:00<00:00,  8.59batch/s]\u001b[A\n",
      "Validation round:  67%|████████████████        | 6/9 [00:00<00:00, 11.01batch/s]\u001b[A\n",
      "Validation round: 100%|████████████████████████| 9/9 [00:00<00:00, 14.71batch/s]\u001b[A\n",
      "Epoch 12/40: 100%|████████| 287/287 [00:03<00:00, 87.17img/s, loss (batch)=0.91]\u001b[A\n",
      "INFO: Checkpoint 12 saved!\n"
     ]
    },
    {
     "name": "stdout",
     "output_type": "stream",
     "text": [
      "Train Info saved successfully to file\n",
      "Validation Info saved successfully to file\n"
     ]
    },
    {
     "name": "stderr",
     "output_type": "stream",
     "text": [
      "Epoch 13/40: 100%|███████| 287/287 [00:01<00:00, 219.76img/s, loss (batch)=1.08]\n",
      "Validation round:   0%|                                | 0/3 [00:00<?, ?batch/s]\u001b[A\n",
      "Validation round:  33%|████████                | 1/3 [00:00<00:00,  2.27batch/s]\u001b[A\n",
      "                                                                                \u001b[A\n",
      "Validation round:   0%|                                | 0/9 [00:00<?, ?batch/s]\u001b[A\n",
      "Validation round:  11%|██▋                     | 1/9 [00:00<00:03,  2.33batch/s]\u001b[A\n",
      "Validation round:  44%|██████████▋             | 4/9 [00:00<00:00,  8.81batch/s]\u001b[A\n",
      "Validation round:  67%|████████████████        | 6/9 [00:00<00:00, 11.49batch/s]\u001b[A\n",
      "Validation round: 100%|████████████████████████| 9/9 [00:00<00:00, 15.67batch/s]\u001b[A\n",
      "Epoch 13/40: 100%|████████| 287/287 [00:03<00:00, 88.89img/s, loss (batch)=1.08]\u001b[A\n",
      "INFO: Checkpoint 13 saved!\n"
     ]
    },
    {
     "name": "stdout",
     "output_type": "stream",
     "text": [
      "Train Info saved successfully to file\n",
      "Validation Info saved successfully to file\n"
     ]
    },
    {
     "name": "stderr",
     "output_type": "stream",
     "text": [
      "Epoch 14/40: 100%|███████| 287/287 [00:01<00:00, 229.57img/s, loss (batch)=1.07]\n",
      "Validation round:   0%|                                | 0/3 [00:00<?, ?batch/s]\u001b[A\n",
      "Validation round:  33%|████████                | 1/3 [00:00<00:00,  2.26batch/s]\u001b[A\n",
      "                                                                                \u001b[A\n",
      "Validation round:   0%|                                | 0/9 [00:00<?, ?batch/s]\u001b[A\n",
      "Validation round:  11%|██▋                     | 1/9 [00:00<00:03,  2.25batch/s]\u001b[A\n",
      "Validation round:  44%|██████████▋             | 4/9 [00:00<00:00,  8.60batch/s]\u001b[A\n",
      "Validation round:  78%|██████████████████▋     | 7/9 [00:00<00:00, 12.62batch/s]\u001b[A\n",
      "Epoch 14/40: 100%|████████| 287/287 [00:03<00:00, 88.11img/s, loss (batch)=1.07]\u001b[A\n",
      "INFO: Checkpoint 14 saved!\n"
     ]
    },
    {
     "name": "stdout",
     "output_type": "stream",
     "text": [
      "Train Info saved successfully to file\n",
      "Validation Info saved successfully to file\n"
     ]
    },
    {
     "name": "stderr",
     "output_type": "stream",
     "text": [
      "Epoch 15/40: 100%|███████| 287/287 [00:01<00:00, 227.79img/s, loss (batch)=1.14]\n",
      "Validation round:   0%|                                | 0/3 [00:00<?, ?batch/s]\u001b[A\n",
      "Validation round:  33%|████████                | 1/3 [00:00<00:01,  1.96batch/s]\u001b[A\n",
      "                                                                                \u001b[A\n",
      "Validation round:   0%|                                | 0/9 [00:00<?, ?batch/s]\u001b[A\n",
      "Validation round:  11%|██▋                     | 1/9 [00:00<00:03,  2.26batch/s]\u001b[A\n",
      "Validation round:  44%|██████████▋             | 4/9 [00:00<00:00,  8.50batch/s]\u001b[A\n",
      "Validation round:  78%|██████████████████▋     | 7/9 [00:00<00:00, 12.85batch/s]\u001b[A\n",
      "Epoch 15/40: 100%|████████| 287/287 [00:03<00:00, 88.23img/s, loss (batch)=1.14]\u001b[A\n",
      "INFO: Checkpoint 15 saved!\n"
     ]
    },
    {
     "name": "stdout",
     "output_type": "stream",
     "text": [
      "Train Info saved successfully to file\n",
      "Validation Info saved successfully to file\n"
     ]
    },
    {
     "name": "stderr",
     "output_type": "stream",
     "text": [
      "Epoch 16/40: 100%|███████| 287/287 [00:01<00:00, 234.01img/s, loss (batch)=1.26]\n",
      "Validation round:   0%|                                | 0/3 [00:00<?, ?batch/s]\u001b[A\n",
      "Validation round:  33%|████████                | 1/3 [00:00<00:00,  2.26batch/s]\u001b[A\n",
      "                                                                                \u001b[A\n",
      "Validation round:   0%|                                | 0/9 [00:00<?, ?batch/s]\u001b[A\n",
      "Validation round:  11%|██▋                     | 1/9 [00:00<00:03,  2.28batch/s]\u001b[A\n",
      "Validation round:  44%|██████████▋             | 4/9 [00:00<00:00,  8.43batch/s]\u001b[A\n",
      "Validation round:  78%|██████████████████▋     | 7/9 [00:00<00:00, 12.94batch/s]\u001b[A\n",
      "Epoch 16/40: 100%|████████| 287/287 [00:03<00:00, 89.72img/s, loss (batch)=1.26]\u001b[A\n",
      "INFO: Checkpoint 16 saved!\n"
     ]
    },
    {
     "name": "stdout",
     "output_type": "stream",
     "text": [
      "Train Info saved successfully to file\n",
      "Validation Info saved successfully to file\n"
     ]
    },
    {
     "name": "stderr",
     "output_type": "stream",
     "text": [
      "Epoch 17/40: 100%|███████| 287/287 [00:01<00:00, 231.87img/s, loss (batch)=1.17]\n",
      "Validation round:   0%|                                | 0/3 [00:00<?, ?batch/s]\u001b[A\n",
      "Validation round:  33%|████████                | 1/3 [00:00<00:00,  2.26batch/s]\u001b[A\n",
      "                                                                                \u001b[A\n",
      "Validation round:   0%|                                | 0/9 [00:00<?, ?batch/s]\u001b[A\n",
      "Validation round:  11%|██▋                     | 1/9 [00:00<00:03,  2.26batch/s]\u001b[A\n",
      "Validation round:  44%|██████████▋             | 4/9 [00:00<00:00,  8.66batch/s]\u001b[A\n",
      "Validation round:  78%|██████████████████▋     | 7/9 [00:00<00:00, 12.86batch/s]\u001b[A\n",
      "Epoch 17/40: 100%|████████| 287/287 [00:03<00:00, 89.55img/s, loss (batch)=1.17]\u001b[A\n",
      "INFO: Checkpoint 17 saved!\n"
     ]
    },
    {
     "name": "stdout",
     "output_type": "stream",
     "text": [
      "Train Info saved successfully to file\n",
      "Validation Info saved successfully to file\n"
     ]
    },
    {
     "name": "stderr",
     "output_type": "stream",
     "text": [
      "Epoch 18/40: 100%|██████| 287/287 [00:01<00:00, 231.13img/s, loss (batch)=0.953]\n",
      "Validation round:   0%|                                | 0/3 [00:00<?, ?batch/s]\u001b[A\n",
      "Validation round:  33%|████████                | 1/3 [00:00<00:00,  2.29batch/s]\u001b[A\n",
      "                                                                                \u001b[A\n",
      "Validation round:   0%|                                | 0/9 [00:00<?, ?batch/s]\u001b[A\n",
      "Validation round:  11%|██▋                     | 1/9 [00:00<00:03,  2.22batch/s]\u001b[A\n",
      "Validation round:  44%|██████████▋             | 4/9 [00:00<00:00,  8.51batch/s]\u001b[A\n",
      "Validation round:  67%|████████████████        | 6/9 [00:00<00:00, 11.32batch/s]\u001b[A\n",
      "Validation round: 100%|████████████████████████| 9/9 [00:00<00:00, 14.90batch/s]\u001b[A\n",
      "Epoch 18/40: 100%|███████| 287/287 [00:03<00:00, 88.58img/s, loss (batch)=0.953]\u001b[A\n",
      "INFO: Checkpoint 18 saved!\n"
     ]
    },
    {
     "name": "stdout",
     "output_type": "stream",
     "text": [
      "Train Info saved successfully to file\n",
      "Validation Info saved successfully to file\n"
     ]
    },
    {
     "name": "stderr",
     "output_type": "stream",
     "text": [
      "Epoch 19/40: 100%|██████| 287/287 [00:01<00:00, 228.78img/s, loss (batch)=0.829]\n",
      "Validation round:   0%|                                | 0/3 [00:00<?, ?batch/s]\u001b[A\n",
      "Validation round:  33%|████████                | 1/3 [00:00<00:00,  2.24batch/s]\u001b[A\n",
      "                                                                                \u001b[A\n",
      "Validation round:   0%|                                | 0/9 [00:00<?, ?batch/s]\u001b[A\n",
      "Validation round:  11%|██▋                     | 1/9 [00:00<00:03,  2.22batch/s]\u001b[A\n",
      "Validation round:  44%|██████████▋             | 4/9 [00:00<00:00,  8.55batch/s]\u001b[A\n",
      "Validation round:  78%|██████████████████▋     | 7/9 [00:00<00:00, 12.72batch/s]\u001b[A\n",
      "Epoch 19/40: 100%|███████| 287/287 [00:03<00:00, 88.79img/s, loss (batch)=0.829]\u001b[A\n",
      "INFO: Checkpoint 19 saved!\n"
     ]
    },
    {
     "name": "stdout",
     "output_type": "stream",
     "text": [
      "Train Info saved successfully to file\n",
      "Validation Info saved successfully to file\n"
     ]
    },
    {
     "name": "stderr",
     "output_type": "stream",
     "text": [
      "Epoch 20/40: 100%|██████| 287/287 [00:01<00:00, 227.56img/s, loss (batch)=0.959]\n",
      "Validation round:   0%|                                | 0/3 [00:00<?, ?batch/s]\u001b[A\n",
      "Validation round:  33%|████████                | 1/3 [00:00<00:00,  2.21batch/s]\u001b[A\n",
      "                                                                                \u001b[A\n",
      "Validation round:   0%|                                | 0/9 [00:00<?, ?batch/s]\u001b[A\n",
      "Validation round:  11%|██▋                     | 1/9 [00:00<00:03,  2.19batch/s]\u001b[A\n",
      "Validation round:  44%|██████████▋             | 4/9 [00:00<00:00,  8.46batch/s]\u001b[A\n",
      "Validation round:  78%|██████████████████▋     | 7/9 [00:00<00:00, 12.73batch/s]\u001b[A\n",
      "Epoch 20/40: 100%|███████| 287/287 [00:03<00:00, 88.65img/s, loss (batch)=0.959]\u001b[A\n",
      "INFO: Checkpoint 20 saved!\n"
     ]
    },
    {
     "name": "stdout",
     "output_type": "stream",
     "text": [
      "Train Info saved successfully to file\n",
      "Validation Info saved successfully to file\n"
     ]
    },
    {
     "name": "stderr",
     "output_type": "stream",
     "text": [
      "Epoch 21/40: 100%|███████| 287/287 [00:01<00:00, 227.91img/s, loss (batch)=1.41]\n",
      "Validation round:   0%|                                | 0/3 [00:00<?, ?batch/s]\u001b[A\n",
      "Validation round:  33%|████████                | 1/3 [00:00<00:00,  2.32batch/s]\u001b[A\n",
      "                                                                                \u001b[A\n",
      "Validation round:   0%|                                | 0/9 [00:00<?, ?batch/s]\u001b[A\n",
      "Validation round:  11%|██▋                     | 1/9 [00:00<00:03,  2.24batch/s]\u001b[A\n",
      "Validation round:  44%|██████████▋             | 4/9 [00:00<00:00,  8.59batch/s]\u001b[A\n",
      "Validation round:  67%|████████████████        | 6/9 [00:00<00:00, 11.20batch/s]\u001b[A\n",
      "Validation round: 100%|████████████████████████| 9/9 [00:00<00:00, 14.77batch/s]\u001b[A\n",
      "Epoch 21/40: 100%|████████| 287/287 [00:03<00:00, 88.95img/s, loss (batch)=1.41]\u001b[A\n",
      "INFO: Checkpoint 21 saved!\n"
     ]
    },
    {
     "name": "stdout",
     "output_type": "stream",
     "text": [
      "Train Info saved successfully to file\n",
      "Validation Info saved successfully to file\n"
     ]
    },
    {
     "name": "stderr",
     "output_type": "stream",
     "text": [
      "Epoch 22/40: 100%|██████| 287/287 [00:01<00:00, 227.68img/s, loss (batch)=0.953]\n",
      "Validation round:   0%|                                | 0/3 [00:00<?, ?batch/s]\u001b[A\n",
      "Validation round:  33%|████████                | 1/3 [00:00<00:00,  2.26batch/s]\u001b[A\n",
      "                                                                                \u001b[A\n",
      "Validation round:   0%|                                | 0/9 [00:00<?, ?batch/s]\u001b[A\n",
      "Validation round:  11%|██▋                     | 1/9 [00:00<00:03,  2.24batch/s]\u001b[A\n",
      "Validation round:  44%|██████████▋             | 4/9 [00:00<00:00,  8.59batch/s]\u001b[A\n",
      "Validation round:  67%|████████████████        | 6/9 [00:00<00:00, 11.34batch/s]\u001b[A\n",
      "Validation round: 100%|████████████████████████| 9/9 [00:00<00:00, 15.10batch/s]\u001b[A\n",
      "Epoch 22/40: 100%|███████| 287/287 [00:03<00:00, 88.75img/s, loss (batch)=0.953]\u001b[A\n",
      "INFO: Checkpoint 22 saved!\n"
     ]
    },
    {
     "name": "stdout",
     "output_type": "stream",
     "text": [
      "Train Info saved successfully to file\n",
      "Validation Info saved successfully to file\n"
     ]
    },
    {
     "name": "stderr",
     "output_type": "stream",
     "text": [
      "Epoch 23/40: 100%|███████| 287/287 [00:01<00:00, 229.25img/s, loss (batch)=1.15]\n",
      "Validation round:   0%|                                | 0/3 [00:00<?, ?batch/s]\u001b[A\n",
      "Validation round:  33%|████████                | 1/3 [00:00<00:00,  2.22batch/s]\u001b[A\n",
      "                                                                                \u001b[A\n",
      "Validation round:   0%|                                | 0/9 [00:00<?, ?batch/s]\u001b[A\n",
      "Validation round:  11%|██▋                     | 1/9 [00:00<00:03,  2.12batch/s]\u001b[A\n",
      "Validation round:  44%|██████████▋             | 4/9 [00:00<00:00,  8.22batch/s]\u001b[A\n",
      "Validation round:  67%|████████████████        | 6/9 [00:00<00:00, 11.04batch/s]\u001b[A\n",
      "Validation round: 100%|████████████████████████| 9/9 [00:00<00:00, 15.06batch/s]\u001b[A\n",
      "Epoch 23/40: 100%|████████| 287/287 [00:03<00:00, 88.63img/s, loss (batch)=1.15]\u001b[A\n",
      "INFO: Checkpoint 23 saved!\n"
     ]
    },
    {
     "name": "stdout",
     "output_type": "stream",
     "text": [
      "Train Info saved successfully to file\n",
      "Validation Info saved successfully to file\n"
     ]
    },
    {
     "name": "stderr",
     "output_type": "stream",
     "text": [
      "Epoch 24/40: 100%|██████| 287/287 [00:01<00:00, 231.12img/s, loss (batch)=0.858]\n",
      "Validation round:   0%|                                | 0/3 [00:00<?, ?batch/s]\u001b[A\n",
      "Validation round:  33%|████████                | 1/3 [00:00<00:00,  2.36batch/s]\u001b[A\n",
      "                                                                                \u001b[A\n",
      "Validation round:   0%|                                | 0/9 [00:00<?, ?batch/s]\u001b[A\n",
      "Validation round:  11%|██▋                     | 1/9 [00:00<00:03,  2.27batch/s]\u001b[A\n",
      "Validation round:  44%|██████████▋             | 4/9 [00:00<00:00,  8.61batch/s]\u001b[A\n",
      "Validation round:  78%|██████████████████▋     | 7/9 [00:00<00:00, 13.07batch/s]\u001b[A\n",
      "Epoch 24/40: 100%|███████| 287/287 [00:03<00:00, 91.38img/s, loss (batch)=0.858]\u001b[A\n",
      "INFO: Checkpoint 24 saved!\n"
     ]
    },
    {
     "name": "stdout",
     "output_type": "stream",
     "text": [
      "Train Info saved successfully to file\n",
      "Validation Info saved successfully to file\n"
     ]
    },
    {
     "name": "stderr",
     "output_type": "stream",
     "text": [
      "Epoch 25/40: 100%|██████| 287/287 [00:01<00:00, 228.95img/s, loss (batch)=0.831]\n",
      "Validation round:   0%|                                | 0/3 [00:00<?, ?batch/s]\u001b[A\n",
      "Validation round:  33%|████████                | 1/3 [00:00<00:00,  2.26batch/s]\u001b[A\n",
      "                                                                                \u001b[A\n",
      "Validation round:   0%|                                | 0/9 [00:00<?, ?batch/s]\u001b[A\n",
      "Validation round:  11%|██▋                     | 1/9 [00:00<00:03,  2.23batch/s]\u001b[A\n",
      "Validation round:  44%|██████████▋             | 4/9 [00:00<00:00,  8.58batch/s]\u001b[A\n",
      "Validation round:  78%|██████████████████▋     | 7/9 [00:00<00:00, 12.94batch/s]\u001b[A\n",
      "Epoch 25/40: 100%|███████| 287/287 [00:03<00:00, 89.11img/s, loss (batch)=0.831]\u001b[A\n",
      "INFO: Checkpoint 25 saved!\n"
     ]
    },
    {
     "name": "stdout",
     "output_type": "stream",
     "text": [
      "Train Info saved successfully to file\n",
      "Validation Info saved successfully to file\n"
     ]
    },
    {
     "name": "stderr",
     "output_type": "stream",
     "text": [
      "Epoch 26/40: 100%|██████| 287/287 [00:01<00:00, 228.52img/s, loss (batch)=0.789]\n",
      "Validation round:   0%|                                | 0/3 [00:00<?, ?batch/s]\u001b[A\n",
      "Validation round:  33%|████████                | 1/3 [00:00<00:00,  2.32batch/s]\u001b[A\n",
      "                                                                                \u001b[A\n",
      "Validation round:   0%|                                | 0/9 [00:00<?, ?batch/s]\u001b[A\n",
      "Validation round:  11%|██▋                     | 1/9 [00:00<00:03,  2.23batch/s]\u001b[A\n",
      "Validation round:  44%|██████████▋             | 4/9 [00:00<00:00,  8.56batch/s]\u001b[A\n",
      "Validation round:  67%|████████████████        | 6/9 [00:00<00:00, 11.13batch/s]\u001b[A\n",
      "Validation round: 100%|████████████████████████| 9/9 [00:00<00:00, 15.33batch/s]\u001b[A\n",
      "Epoch 26/40: 100%|███████| 287/287 [00:03<00:00, 88.96img/s, loss (batch)=0.789]\u001b[A\n",
      "INFO: Checkpoint 26 saved!\n"
     ]
    },
    {
     "name": "stdout",
     "output_type": "stream",
     "text": [
      "Train Info saved successfully to file\n",
      "Validation Info saved successfully to file\n"
     ]
    },
    {
     "name": "stderr",
     "output_type": "stream",
     "text": [
      "Epoch 27/40: 100%|██████| 287/287 [00:01<00:00, 230.22img/s, loss (batch)=0.585]\n",
      "Validation round:   0%|                                | 0/3 [00:00<?, ?batch/s]\u001b[A\n",
      "Validation round:  33%|████████                | 1/3 [00:00<00:01,  1.76batch/s]\u001b[A\n",
      "                                                                                \u001b[A\n",
      "Validation round:   0%|                                | 0/9 [00:00<?, ?batch/s]\u001b[A\n",
      "Validation round:  11%|██▋                     | 1/9 [00:00<00:03,  2.21batch/s]\u001b[A\n",
      "Validation round:  44%|██████████▋             | 4/9 [00:00<00:00,  8.51batch/s]\u001b[A\n",
      "Validation round:  78%|██████████████████▋     | 7/9 [00:00<00:00, 12.87batch/s]\u001b[A\n",
      "Epoch 27/40: 100%|███████| 287/287 [00:03<00:00, 86.16img/s, loss (batch)=0.585]\u001b[A\n",
      "INFO: Checkpoint 27 saved!\n"
     ]
    },
    {
     "name": "stdout",
     "output_type": "stream",
     "text": [
      "Train Info saved successfully to file\n",
      "Validation Info saved successfully to file\n"
     ]
    },
    {
     "name": "stderr",
     "output_type": "stream",
     "text": [
      "Epoch 28/40: 100%|██████| 287/287 [00:01<00:00, 229.82img/s, loss (batch)=0.665]\n",
      "Validation round:   0%|                                | 0/3 [00:00<?, ?batch/s]\u001b[A\n",
      "Validation round:  33%|████████                | 1/3 [00:00<00:01,  1.79batch/s]\u001b[A\n",
      "                                                                                \u001b[A\n",
      "Validation round:   0%|                                | 0/9 [00:00<?, ?batch/s]\u001b[A\n",
      "Validation round:  11%|██▋                     | 1/9 [00:00<00:03,  2.15batch/s]\u001b[A\n",
      "Validation round:  44%|██████████▋             | 4/9 [00:00<00:00,  8.35batch/s]\u001b[A\n",
      "Validation round:  67%|████████████████        | 6/9 [00:00<00:00, 11.15batch/s]\u001b[A\n",
      "Validation round: 100%|████████████████████████| 9/9 [00:00<00:00, 15.42batch/s]\u001b[A\n",
      "Epoch 28/40: 100%|███████| 287/287 [00:03<00:00, 85.83img/s, loss (batch)=0.665]\u001b[A\n",
      "INFO: Checkpoint 28 saved!\n"
     ]
    },
    {
     "name": "stdout",
     "output_type": "stream",
     "text": [
      "Train Info saved successfully to file\n",
      "Validation Info saved successfully to file\n"
     ]
    },
    {
     "name": "stderr",
     "output_type": "stream",
     "text": [
      "Epoch 29/40: 100%|██████| 287/287 [00:01<00:00, 229.02img/s, loss (batch)=0.673]\n",
      "Validation round:   0%|                                | 0/3 [00:00<?, ?batch/s]\u001b[A\n",
      "Validation round:  33%|████████                | 1/3 [00:00<00:00,  2.34batch/s]\u001b[A\n",
      "                                                                                \u001b[A\n",
      "Validation round:   0%|                                | 0/9 [00:00<?, ?batch/s]\u001b[A\n",
      "Validation round:  11%|██▋                     | 1/9 [00:00<00:03,  2.23batch/s]\u001b[A\n",
      "Validation round:  44%|██████████▋             | 4/9 [00:00<00:00,  8.57batch/s]\u001b[A\n",
      "Validation round:  67%|████████████████        | 6/9 [00:00<00:00, 11.31batch/s]\u001b[A\n",
      "Validation round: 100%|████████████████████████| 9/9 [00:00<00:00, 15.23batch/s]\u001b[A\n",
      "Epoch 29/40: 100%|███████| 287/287 [00:03<00:00, 90.39img/s, loss (batch)=0.673]\u001b[A\n",
      "INFO: Checkpoint 29 saved!\n"
     ]
    },
    {
     "name": "stdout",
     "output_type": "stream",
     "text": [
      "Train Info saved successfully to file\n",
      "Validation Info saved successfully to file\n"
     ]
    },
    {
     "name": "stderr",
     "output_type": "stream",
     "text": [
      "Epoch 30/40: 100%|██████| 287/287 [00:01<00:00, 232.22img/s, loss (batch)=0.692]\n",
      "Validation round:   0%|                                | 0/3 [00:00<?, ?batch/s]\u001b[A\n",
      "Validation round:  33%|████████                | 1/3 [00:00<00:00,  2.26batch/s]\u001b[A\n",
      "                                                                                \u001b[A\n",
      "Validation round:   0%|                                | 0/9 [00:00<?, ?batch/s]\u001b[A\n",
      "Validation round:  11%|██▋                     | 1/9 [00:00<00:03,  2.20batch/s]\u001b[A\n",
      "Validation round:  44%|██████████▋             | 4/9 [00:00<00:00,  8.50batch/s]\u001b[A\n",
      "Validation round:  78%|██████████████████▋     | 7/9 [00:00<00:00, 13.06batch/s]\u001b[A\n",
      "Epoch 30/40: 100%|███████| 287/287 [00:03<00:00, 89.08img/s, loss (batch)=0.692]\u001b[A\n",
      "INFO: Checkpoint 30 saved!\n"
     ]
    },
    {
     "name": "stdout",
     "output_type": "stream",
     "text": [
      "Train Info saved successfully to file\n",
      "Validation Info saved successfully to file\n"
     ]
    },
    {
     "name": "stderr",
     "output_type": "stream",
     "text": [
      "Epoch 31/40: 100%|██████| 287/287 [00:01<00:00, 233.10img/s, loss (batch)=0.544]\n",
      "Validation round:   0%|                                | 0/3 [00:00<?, ?batch/s]\u001b[A\n",
      "Validation round:  33%|████████                | 1/3 [00:00<00:01,  1.96batch/s]\u001b[A\n",
      "                                                                                \u001b[A\n",
      "Validation round:   0%|                                | 0/9 [00:00<?, ?batch/s]\u001b[A\n",
      "Validation round:  11%|██▋                     | 1/9 [00:00<00:03,  2.22batch/s]\u001b[A\n",
      "Validation round:  44%|██████████▋             | 4/9 [00:00<00:00,  8.53batch/s]\u001b[A\n",
      "Validation round:  67%|████████████████        | 6/9 [00:00<00:00, 11.34batch/s]\u001b[A\n",
      "Validation round: 100%|████████████████████████| 9/9 [00:00<00:00, 15.00batch/s]\u001b[A\n",
      "Epoch 31/40: 100%|███████| 287/287 [00:03<00:00, 88.01img/s, loss (batch)=0.544]\u001b[A\n",
      "INFO: Checkpoint 31 saved!\n"
     ]
    },
    {
     "name": "stdout",
     "output_type": "stream",
     "text": [
      "Train Info saved successfully to file\n",
      "Validation Info saved successfully to file\n"
     ]
    },
    {
     "name": "stderr",
     "output_type": "stream",
     "text": [
      "Epoch 32/40: 100%|██████| 287/287 [00:01<00:00, 220.23img/s, loss (batch)=0.723]\n",
      "Validation round:   0%|                                | 0/3 [00:00<?, ?batch/s]\u001b[A\n",
      "Validation round:  33%|████████                | 1/3 [00:00<00:00,  2.33batch/s]\u001b[A\n",
      "                                                                                \u001b[A\n",
      "Validation round:   0%|                                | 0/9 [00:00<?, ?batch/s]\u001b[A\n",
      "Validation round:  11%|██▋                     | 1/9 [00:00<00:03,  2.33batch/s]\u001b[A\n",
      "Validation round:  44%|██████████▋             | 4/9 [00:00<00:00,  8.82batch/s]\u001b[A\n",
      "Validation round:  78%|██████████████████▋     | 7/9 [00:00<00:00, 13.00batch/s]\u001b[A\n",
      "Epoch 32/40: 100%|███████| 287/287 [00:03<00:00, 89.13img/s, loss (batch)=0.723]\u001b[A\n",
      "INFO: Checkpoint 32 saved!\n"
     ]
    },
    {
     "name": "stdout",
     "output_type": "stream",
     "text": [
      "Train Info saved successfully to file\n",
      "Validation Info saved successfully to file\n"
     ]
    },
    {
     "name": "stderr",
     "output_type": "stream",
     "text": [
      "Epoch 33/40: 100%|██████| 287/287 [00:01<00:00, 230.81img/s, loss (batch)=0.855]\n",
      "Validation round:   0%|                                | 0/3 [00:00<?, ?batch/s]\u001b[A\n",
      "Validation round:  33%|████████                | 1/3 [00:00<00:00,  2.26batch/s]\u001b[A\n",
      "                                                                                \u001b[A\n",
      "Validation round:   0%|                                | 0/9 [00:00<?, ?batch/s]\u001b[A\n",
      "Validation round:  11%|██▋                     | 1/9 [00:00<00:03,  2.32batch/s]\u001b[A\n",
      "Validation round:  44%|██████████▋             | 4/9 [00:00<00:00,  8.80batch/s]\u001b[A\n",
      "Validation round:  67%|████████████████        | 6/9 [00:00<00:00, 11.59batch/s]\u001b[A\n",
      "Validation round: 100%|████████████████████████| 9/9 [00:00<00:00, 14.79batch/s]\u001b[A\n",
      "Epoch 33/40: 100%|███████| 287/287 [00:03<00:00, 89.14img/s, loss (batch)=0.855]\u001b[A\n",
      "INFO: Checkpoint 33 saved!\n"
     ]
    },
    {
     "name": "stdout",
     "output_type": "stream",
     "text": [
      "Train Info saved successfully to file\n",
      "Validation Info saved successfully to file\n"
     ]
    },
    {
     "name": "stderr",
     "output_type": "stream",
     "text": [
      "Epoch 34/40: 100%|██████| 287/287 [00:01<00:00, 218.20img/s, loss (batch)=0.656]\n",
      "Validation round:   0%|                                | 0/3 [00:00<?, ?batch/s]\u001b[A\n",
      "Validation round:  33%|████████                | 1/3 [00:00<00:01,  1.77batch/s]\u001b[A\n",
      "                                                                                \u001b[A\n",
      "Validation round:   0%|                                | 0/9 [00:00<?, ?batch/s]\u001b[A\n",
      "Validation round:  11%|██▋                     | 1/9 [00:00<00:03,  2.13batch/s]\u001b[A\n",
      "Validation round:  44%|██████████▋             | 4/9 [00:00<00:00,  8.30batch/s]\u001b[A\n",
      "Validation round:  78%|██████████████████▋     | 7/9 [00:00<00:00, 12.48batch/s]\u001b[A\n",
      "Epoch 34/40: 100%|███████| 287/287 [00:03<00:00, 85.15img/s, loss (batch)=0.656]\u001b[A\n",
      "INFO: Checkpoint 34 saved!\n"
     ]
    },
    {
     "name": "stdout",
     "output_type": "stream",
     "text": [
      "Train Info saved successfully to file\n",
      "Validation Info saved successfully to file\n"
     ]
    },
    {
     "name": "stderr",
     "output_type": "stream",
     "text": [
      "Epoch 35/40: 100%|████████| 287/287 [00:01<00:00, 232.41img/s, loss (batch)=0.5]\n",
      "Validation round:   0%|                                | 0/3 [00:00<?, ?batch/s]\u001b[A\n",
      "Validation round:  33%|████████                | 1/3 [00:00<00:00,  2.20batch/s]\u001b[A\n",
      "                                                                                \u001b[A\n",
      "Validation round:   0%|                                | 0/9 [00:00<?, ?batch/s]\u001b[A\n",
      "Validation round:  11%|██▋                     | 1/9 [00:00<00:03,  2.26batch/s]\u001b[A\n",
      "Validation round:  44%|██████████▋             | 4/9 [00:00<00:00,  8.61batch/s]\u001b[A\n",
      "Validation round:  67%|████████████████        | 6/9 [00:00<00:00,  6.94batch/s]\u001b[A\n",
      "Validation round: 100%|████████████████████████| 9/9 [00:01<00:00, 10.48batch/s]\u001b[A\n",
      "Epoch 35/40: 100%|█████████| 287/287 [00:03<00:00, 82.06img/s, loss (batch)=0.5]\u001b[A\n",
      "INFO: Checkpoint 35 saved!\n"
     ]
    },
    {
     "name": "stdout",
     "output_type": "stream",
     "text": [
      "Train Info saved successfully to file\n",
      "Validation Info saved successfully to file\n"
     ]
    },
    {
     "name": "stderr",
     "output_type": "stream",
     "text": [
      "Epoch 36/40: 100%|██████| 287/287 [00:01<00:00, 226.45img/s, loss (batch)=0.391]\n",
      "Validation round:   0%|                                | 0/3 [00:00<?, ?batch/s]\u001b[A\n",
      "Validation round:  33%|████████                | 1/3 [00:00<00:00,  2.13batch/s]\u001b[A\n",
      "                                                                                \u001b[A\n",
      "Validation round:   0%|                                | 0/9 [00:00<?, ?batch/s]\u001b[A\n",
      "Validation round:  11%|██▋                     | 1/9 [00:00<00:04,  1.85batch/s]\u001b[A\n",
      "Validation round:  44%|██████████▋             | 4/9 [00:00<00:00,  7.45batch/s]\u001b[A\n",
      "Validation round:  67%|████████████████        | 6/9 [00:00<00:00,  9.71batch/s]\u001b[A\n",
      "Validation round: 100%|████████████████████████| 9/9 [00:00<00:00, 13.59batch/s]\u001b[A\n",
      "Epoch 36/40: 100%|███████| 287/287 [00:03<00:00, 84.20img/s, loss (batch)=0.391]\u001b[A\n",
      "INFO: Checkpoint 36 saved!\n"
     ]
    },
    {
     "name": "stdout",
     "output_type": "stream",
     "text": [
      "Train Info saved successfully to file\n",
      "Validation Info saved successfully to file\n"
     ]
    },
    {
     "name": "stderr",
     "output_type": "stream",
     "text": [
      "Epoch 37/40: 100%|██████| 287/287 [00:01<00:00, 226.87img/s, loss (batch)=0.578]\n",
      "Validation round:   0%|                                | 0/3 [00:00<?, ?batch/s]\u001b[A\n",
      "Validation round:  33%|████████                | 1/3 [00:00<00:00,  2.27batch/s]\u001b[A\n",
      "                                                                                \u001b[A\n",
      "Validation round:   0%|                                | 0/9 [00:00<?, ?batch/s]\u001b[A\n",
      "Validation round:  11%|██▋                     | 1/9 [00:00<00:03,  2.11batch/s]\u001b[A\n",
      "Validation round:  44%|██████████▋             | 4/9 [00:00<00:00,  8.18batch/s]\u001b[A\n",
      "Validation round:  78%|██████████████████▋     | 7/9 [00:00<00:00, 12.52batch/s]\u001b[A\n",
      "Epoch 37/40: 100%|███████| 287/287 [00:03<00:00, 87.32img/s, loss (batch)=0.578]\u001b[A\n",
      "INFO: Checkpoint 37 saved!\n"
     ]
    },
    {
     "name": "stdout",
     "output_type": "stream",
     "text": [
      "Train Info saved successfully to file\n",
      "Validation Info saved successfully to file\n"
     ]
    },
    {
     "name": "stderr",
     "output_type": "stream",
     "text": [
      "Epoch 38/40: 100%|██████| 287/287 [00:01<00:00, 224.60img/s, loss (batch)=0.464]\n",
      "Validation round:   0%|                                | 0/3 [00:00<?, ?batch/s]\u001b[A\n",
      "Validation round:  33%|████████                | 1/3 [00:00<00:00,  2.27batch/s]\u001b[A\n",
      "                                                                                \u001b[A\n",
      "Validation round:   0%|                                | 0/9 [00:00<?, ?batch/s]\u001b[A\n",
      "Validation round:  11%|██▋                     | 1/9 [00:00<00:03,  2.26batch/s]\u001b[A\n",
      "Validation round:  44%|██████████▋             | 4/9 [00:00<00:00,  8.55batch/s]\u001b[A\n",
      "Validation round:  78%|██████████████████▋     | 7/9 [00:00<00:00, 12.90batch/s]\u001b[A\n",
      "Epoch 38/40: 100%|███████| 287/287 [00:03<00:00, 89.08img/s, loss (batch)=0.464]\u001b[A\n",
      "INFO: Checkpoint 38 saved!\n"
     ]
    },
    {
     "name": "stdout",
     "output_type": "stream",
     "text": [
      "Train Info saved successfully to file\n",
      "Validation Info saved successfully to file\n"
     ]
    },
    {
     "name": "stderr",
     "output_type": "stream",
     "text": [
      "Epoch 39/40: 100%|██████| 287/287 [00:01<00:00, 227.61img/s, loss (batch)=0.654]\n",
      "Validation round:   0%|                                | 0/3 [00:00<?, ?batch/s]\u001b[A\n",
      "Validation round:  33%|████████                | 1/3 [00:00<00:00,  2.26batch/s]\u001b[A\n",
      "                                                                                \u001b[A\n",
      "Validation round:   0%|                                | 0/9 [00:00<?, ?batch/s]\u001b[A\n",
      "Validation round:  11%|██▋                     | 1/9 [00:00<00:03,  2.28batch/s]\u001b[A\n",
      "Validation round:  44%|██████████▋             | 4/9 [00:00<00:00,  8.70batch/s]\u001b[A\n",
      "Validation round:  67%|████████████████        | 6/9 [00:00<00:00, 11.35batch/s]\u001b[A\n",
      "Validation round: 100%|████████████████████████| 9/9 [00:00<00:00, 14.52batch/s]\u001b[A\n",
      "Epoch 39/40: 100%|███████| 287/287 [00:03<00:00, 87.97img/s, loss (batch)=0.654]\u001b[A\n",
      "INFO: Checkpoint 39 saved!\n"
     ]
    },
    {
     "name": "stdout",
     "output_type": "stream",
     "text": [
      "Train Info saved successfully to file\n",
      "Validation Info saved successfully to file\n"
     ]
    },
    {
     "name": "stderr",
     "output_type": "stream",
     "text": [
      "Epoch 40/40: 100%|██████| 287/287 [00:01<00:00, 226.54img/s, loss (batch)=0.445]\n",
      "Validation round:   0%|                                | 0/3 [00:00<?, ?batch/s]\u001b[A\n",
      "Validation round:  33%|████████                | 1/3 [00:00<00:00,  2.26batch/s]\u001b[A\n",
      "                                                                                \u001b[A\n",
      "Validation round:   0%|                                | 0/9 [00:00<?, ?batch/s]\u001b[A\n",
      "Validation round:  11%|██▋                     | 1/9 [00:00<00:03,  2.27batch/s]\u001b[A\n",
      "Validation round:  44%|██████████▋             | 4/9 [00:00<00:00,  8.57batch/s]\u001b[A\n",
      "Validation round:  78%|██████████████████▋     | 7/9 [00:00<00:00, 12.76batch/s]\u001b[A\n",
      "Epoch 40/40: 100%|███████| 287/287 [00:03<00:00, 88.61img/s, loss (batch)=0.445]\u001b[A\n",
      "INFO: Checkpoint 40 saved!\n"
     ]
    },
    {
     "name": "stdout",
     "output_type": "stream",
     "text": [
      "Train Info saved successfully to file\n",
      "Validation Info saved successfully to file\n"
     ]
    },
    {
     "data": {
      "image/png": "[encoded data removed]",
      "text/plain": [
       "<Figure size 432x288 with 1 Axes>"
      ]
     },
     "metadata": {
      "needs_background": "light"
     },
     "output_type": "display_data"
    }
   ],
   "source": [
    "train_classification(info_df,\n",
    "                     model = BIRADS_MODEL,\n",
    "                     datagen = DefaultDataset,\n",
    "                     n_channels = 1,\n",
    "                     n_classes = 8,\n",
    "                     epochs = 40,\n",
    "                     lr = 0.001,\n",
    "                     validation = 30,\n",
    "                     batch_size = 32,\n",
    "                     size = 512)"
   ]
  },
  {
   "cell_type": "markdown",
   "id": "10d0fd56",
   "metadata": {},
   "source": [
    "# Report Fine-Tuning\n",
    "THIS CODE DOES NOT HAVE VALIDATION STEP"
   ]
  },
  {
   "cell_type": "code",
   "execution_count": 41,
   "id": "1ab6f916",
   "metadata": {},
   "outputs": [],
   "source": [
    "def train_language_modelling(dataset,\n",
    "                         model,\n",
    "                         n_channels = 1,\n",
    "                         n_classes = 8,\n",
    "                         epochs = 40,\n",
    "                         lr = 0.001,\n",
    "                         validation = 30,\n",
    "                         batch_size = 4,\n",
    "                         size = 512,\n",
    "                         model_name = 'BIRADS_MODEL',\n",
    "                         save_checkpoint = \"./checkpoints/\"):\n",
    "    \n",
    "    net = model\n",
    "\n",
    "    device = torch.device('cuda' if torch.cuda.is_available() else 'cpu')\n",
    "\n",
    "    # Log info\n",
    "    logging.basicConfig(level=logging.INFO, format='%(levelname)s: %(message)s')\n",
    "    logging.info(f'Using device {device}')\n",
    "\n",
    "    net.to(device=device)\n",
    "    \n",
    "    if device == 'cuda':\n",
    "        torch.cuda.empty_cache()\n",
    "\n",
    "    # 2. Dataset Splitting and Data Loading\n",
    "    n_val = int(len(dataset) * validation/100)\n",
    "    n_train = len(dataset) - n_val\n",
    "    train_set, val_set = random_split(dataset, [n_train, n_val], generator=torch.Generator().manual_seed(0))\n",
    "\n",
    "    loader_args = dict(batch_size=batch_size, num_workers=4, pin_memory=True)\n",
    "    train_loader = DataLoader(train_set, shuffle=True, **loader_args)\n",
    "    val_loader = DataLoader(val_set, shuffle=False, drop_last=True, **loader_args)\n",
    "\n",
    "    # 3. Initialize Training Modules\n",
    "    optimizer = optim.Adam(net.parameters(), lr=lr)\n",
    "    scheduler = optim.lr_scheduler.ReduceLROnPlateau(optimizer, 'max', patience=2, factor=0.5)\n",
    "    criterion = nn.CrossEntropyLoss()\n",
    "    grad_scaler = torch.cuda.amp.GradScaler(enabled=False)\n",
    "\n",
    "    experiment = wandb.init(project=model_name, resume='allow', anonymous='must')\n",
    "    experiment.config.update(dict(epochs=epochs, batch_size=batch_size, learning_rate=lr,\n",
    "                          val_percent=validation, save_checkpoint=save_checkpoint, img_size=size,\n",
    "                          amp=False, lr_scheduler=scheduler, optimizer='Adam', model=model_name))\n",
    "\n",
    "\n",
    "    logging.info(f'''Starting training:\n",
    "        Model:                  {model_name}\n",
    "        Epochs:                 {epochs}\n",
    "        Batch size:             {batch_size}\n",
    "        Learning rate:          {1e-3}\n",
    "        Training size:          {n_train}\n",
    "        Validation size:        {n_val}\n",
    "        Checkpoints:            {save_checkpoint}\n",
    "        Device:                 {device.type}\n",
    "        Images resizing:        {size}\n",
    "    ''')\n",
    "\n",
    "    # 5. Train model\n",
    "    global_step = 0\n",
    "    train_score = []\n",
    "    validation_score = []\n",
    "    batch_validation_score = []\n",
    "    learnig_rate_val = []\n",
    "\n",
    "    accuracy = []\n",
    "    sensitivity = []\n",
    "    specificity = []\n",
    "\n",
    "    for epoch in range(1, epochs+1):\n",
    "\n",
    "        # Initialize Net and Epoch \n",
    "        net.train()\n",
    "        epoch_loss = 0\n",
    "\n",
    "        # \n",
    "        with tqdm(total=n_train, desc=f'Epoch {epoch}/{epochs}', unit='img') as pbar:\n",
    "            for batch in train_loader:\n",
    "                images = batch['images']\n",
    "                labels = batch['labels']\n",
    "\n",
    "                assert images.shape[1] == n_channels, \\\n",
    "                    f'Network has been defined with {n_channels} input channels, ' \\\n",
    "                    f'but loaded images have {images.shape[1]} channels. Please check that ' \\\n",
    "                    'the images are loaded correctly.'\n",
    "\n",
    "                images = images.to(device=device, dtype=torch.float32)\n",
    "                ####################################################################################\n",
    "                true_masks = labels.to(device=device, dtype=torch.long)\n",
    "\n",
    "                with torch.cuda.amp.autocast(enabled=False):\n",
    "                    masks_pred = net(images, generate_report = True)[\"Report\"]\n",
    "                    masks_pred = torch.argmax(masks_pred.logits, dim=2)\n",
    "                    loss = criterion(masks_pred.float(), true_masks.float())\n",
    "\n",
    "                optimizer.zero_grad(set_to_none=True)\n",
    "                loss.requires_grad = True\n",
    "                grad_scaler.scale(loss).backward()\n",
    "                grad_scaler.step(optimizer)\n",
    "                grad_scaler.update()\n",
    "\n",
    "                pbar.update(images.shape[0])\n",
    "                global_step += 1\n",
    "                epoch_loss += loss.item()\n",
    "                experiment.log({\n",
    "                    'train loss': loss.item(),\n",
    "                    'step': global_step,\n",
    "                    'epoch': epoch\n",
    "                })\n",
    "                pbar.set_postfix(**{'loss (batch)': loss.item()})\n",
    "\n",
    "        if save_checkpoint:\n",
    "            Path(save_checkpoint).mkdir(parents=True, exist_ok=True)\n",
    "            torch.save(net.state_dict(), str(save_checkpoint + 'checkpoint_epoch{}.pth'.format(epoch)))\n",
    "            logging.info(f'Checkpoint {epoch} saved!')\n"
   ]
  },
  {
   "cell_type": "markdown",
   "id": "a370208c",
   "metadata": {},
   "source": [
    "## Parameters and Values"
   ]
  },
  {
   "cell_type": "code",
   "execution_count": 17,
   "id": "70fd72fc",
   "metadata": {},
   "outputs": [],
   "source": [
    "#Select here the best training model\n",
    "load = \"./checkpoints/checkpoint_epoch40.pth\""
   ]
  },
  {
   "cell_type": "code",
   "execution_count": 18,
   "id": "dde580e7",
   "metadata": {},
   "outputs": [
    {
     "name": "stderr",
     "output_type": "stream",
     "text": [
      "Some weights of the model checkpoint at bert-base-multilingual-cased were not used when initializing BertLMHeadModel: ['cls.seq_relationship.bias', 'cls.seq_relationship.weight']\n",
      "- This IS expected if you are initializing BertLMHeadModel from the checkpoint of a model trained on another task or with another architecture (e.g. initializing a BertForSequenceClassification model from a BertForPreTraining model).\n",
      "- This IS NOT expected if you are initializing BertLMHeadModel from the checkpoint of a model that you expect to be exactly identical (initializing a BertForSequenceClassification model from a BertForSequenceClassification model).\n"
     ]
    }
   ],
   "source": [
    "model = BIRADS_MODEL()\n",
    "\n",
    "model.load_state_dict(torch.load(load))\n",
    "\n",
    "model.backbone.fc.requires_grad = False\n",
    "model.backbone.conv1.requires_grad = False\n",
    "model.class_head.requires_grad = False"
   ]
  },
  {
   "cell_type": "code",
   "execution_count": 42,
   "id": "7f76b890",
   "metadata": {
    "scrolled": false
   },
   "outputs": [
    {
     "name": "stderr",
     "output_type": "stream",
     "text": [
      "/tmp/ipykernel_10261/49275663.py:11: SettingWithCopyWarning: \n",
      "A value is trying to be set on a copy of a slice from a DataFrame.\n",
      "Try using .loc[row_indexer,col_indexer] = value instead\n",
      "\n",
      "See the caveats in the documentation: https://pandas.pydata.org/pandas-docs/stable/user_guide/indexing.html#returning-a-view-versus-a-copy\n",
      "  self.df['ReportID'] = self.df['ReportID'].apply(lambda x: report_dir + \"/\" + x)\n",
      "/tmp/ipykernel_10261/49275663.py:12: SettingWithCopyWarning: \n",
      "A value is trying to be set on a copy of a slice from a DataFrame.\n",
      "Try using .loc[row_indexer,col_indexer] = value instead\n",
      "\n",
      "See the caveats in the documentation: https://pandas.pydata.org/pandas-docs/stable/user_guide/indexing.html#returning-a-view-versus-a-copy\n",
      "  self.df['DICOMID'] = self.df['DICOMID'].apply(lambda x: img_dir + \"/\" + x + \".png\")\n",
      "INFO: Using device cuda\n"
     ]
    },
    {
     "name": "stdout",
     "output_type": "stream",
     "text": [
      "Created Dataset with 361 examples\n"
     ]
    },
    {
     "data": {
      "text/html": [
       "Finishing last run (ID:zrols701) before initializing another..."
      ],
      "text/plain": [
       "<IPython.core.display.HTML object>"
      ]
     },
     "metadata": {},
     "output_type": "display_data"
    },
    {
     "data": {
      "text/html": [
       "Waiting for W&B process to finish... <strong style=\"color:green\">(success).</strong>"
      ],
      "text/plain": [
       "<IPython.core.display.HTML object>"
      ]
     },
     "metadata": {},
     "output_type": "display_data"
    },
    {
     "data": {
      "application/vnd.jupyter.widget-view+json": {
       "model_id": "",
       "version_major": 2,
       "version_minor": 0
      },
      "text/plain": [
       "VBox(children=(Label(value='0.001 MB of 0.001 MB uploaded (0.000 MB deduped)\\r'), FloatProgress(value=1.0, max…"
      ]
     },
     "metadata": {},
     "output_type": "display_data"
    },
    {
     "data": {
      "text/html": [
       "<style>\n",
       "    table.wandb td:nth-child(1) { padding: 0 10px; text-align: left ; width: auto;} td:nth-child(2) {text-align: left ; width: 100%}\n",
       "    .wandb-row { display: flex; flex-direction: row; flex-wrap: wrap; justify-content: flex-start; width: 100% }\n",
       "    .wandb-col { display: flex; flex-direction: column; flex-basis: 100%; flex: 1; padding: 10px; }\n",
       "    </style>\n",
       "<div class=\"wandb-row\"><div class=\"wandb-col\"><h3>Run history:</h3><br/><table class=\"wandb\"><tr><td>epoch</td><td>▁▁▁▁▁▁</td></tr><tr><td>step</td><td>▁▂▄▅▇█</td></tr><tr><td>train loss</td><td>▂▃█▄▇▁</td></tr></table><br/></div><div class=\"wandb-col\"><h3>Run summary:</h3><br/><table class=\"wandb\"><tr><td>epoch</td><td>1</td></tr><tr><td>step</td><td>6</td></tr><tr><td>train loss</td><td>114741026816.0</td></tr></table><br/></div></div>"
      ],
      "text/plain": [
       "<IPython.core.display.HTML object>"
      ]
     },
     "metadata": {},
     "output_type": "display_data"
    },
    {
     "data": {
      "text/html": [
       "Synced <strong style=\"color:#cdcd00\">eerie-ghost-59</strong>: <a href=\"https://wandb.ai/anony-moose-255327/BIRADS_MODEL/runs/zrols701?apiKey=e6b345a932991bce56b0fcf649f497558f53be42\" target=\"_blank\">https://wandb.ai/anony-moose-255327/BIRADS_MODEL/runs/zrols701?apiKey=e6b345a932991bce56b0fcf649f497558f53be42</a><br/>Synced 5 W&B file(s), 0 media file(s), 0 artifact file(s) and 0 other file(s)"
      ],
      "text/plain": [
       "<IPython.core.display.HTML object>"
      ]
     },
     "metadata": {},
     "output_type": "display_data"
    },
    {
     "data": {
      "text/html": [
       "Find logs at: <code>./wandb/run-20231031_142121-zrols701/logs</code>"
      ],
      "text/plain": [
       "<IPython.core.display.HTML object>"
      ]
     },
     "metadata": {},
     "output_type": "display_data"
    },
    {
     "data": {
      "text/html": [
       "Successfully finished last run (ID:zrols701). Initializing new run:<br/>"
      ],
      "text/plain": [
       "<IPython.core.display.HTML object>"
      ]
     },
     "metadata": {},
     "output_type": "display_data"
    },
    {
     "name": "stderr",
     "output_type": "stream",
     "text": [
      "2023-10-31 14:22:31.229992: W tensorflow/compiler/tf2tensorrt/utils/py_utils.cc:38] TF-TRT Warning: Could not find TensorRT\n"
     ]
    },
    {
     "data": {
      "text/html": [
       "wandb version 0.15.12 is available!  To upgrade, please run:\n",
       " $ pip install wandb --upgrade"
      ],
      "text/plain": [
       "<IPython.core.display.HTML object>"
      ]
     },
     "metadata": {},
     "output_type": "display_data"
    },
    {
     "data": {
      "text/html": [
       "Tracking run with wandb version 0.12.16"
      ],
      "text/plain": [
       "<IPython.core.display.HTML object>"
      ]
     },
     "metadata": {},
     "output_type": "display_data"
    },
    {
     "data": {
      "text/html": [
       "Run data is saved locally in <code>/media/delas/RetinaRX/Memoria/Models/Models/Github/ChestQualityAssurance/PMV-BIRADS/wandb/run-20231031_142224-1szg07u6</code>"
      ],
      "text/plain": [
       "<IPython.core.display.HTML object>"
      ]
     },
     "metadata": {},
     "output_type": "display_data"
    },
    {
     "data": {
      "text/html": [
       "Syncing run <strong><a href=\"https://wandb.ai/anony-moose-255327/BIRADS_MODEL/runs/1szg07u6?apiKey=e6b345a932991bce56b0fcf649f497558f53be42\" target=\"_blank\">magical-vampire-60</a></strong> to <a href=\"https://wandb.ai/anony-moose-255327/BIRADS_MODEL?apiKey=e6b345a932991bce56b0fcf649f497558f53be42\" target=\"_blank\">Weights & Biases</a> (<a href=\"https://wandb.me/run\" target=\"_blank\">docs</a>)<br/>"
      ],
      "text/plain": [
       "<IPython.core.display.HTML object>"
      ]
     },
     "metadata": {},
     "output_type": "display_data"
    },
    {
     "name": "stderr",
     "output_type": "stream",
     "text": [
      "INFO: Starting training:\n",
      "        Model:                  BIRADS_MODEL\n",
      "        Epochs:                 40\n",
      "        Batch size:             4\n",
      "        Learning rate:          0.001\n",
      "        Training size:          253\n",
      "        Validation size:        108\n",
      "        Checkpoints:            ./checkpoints/\n",
      "        Device:                 cuda\n",
      "        Images resizing:        512\n",
      "    \n",
      "Epoch 1/40: 100%|█████| 253/253 [02:29<00:00,  1.69img/s, loss (batch)=2.77e+11]\n",
      "INFO: Checkpoint 1 saved!\n",
      "Epoch 2/40: 100%|█████| 253/253 [02:13<00:00,  1.89img/s, loss (batch)=1.77e+11]\n",
      "INFO: Checkpoint 2 saved!\n",
      "Epoch 3/40: 100%|█████| 253/253 [02:18<00:00,  1.82img/s, loss (batch)=7.14e+10]\n",
      "INFO: Checkpoint 3 saved!\n",
      "Epoch 4/40: 100%|█████| 253/253 [02:27<00:00,  1.72img/s, loss (batch)=2.54e+11]\n",
      "INFO: Checkpoint 4 saved!\n",
      "Epoch 5/40: 100%|█████| 253/253 [02:23<00:00,  1.76img/s, loss (batch)=4.87e+11]\n",
      "INFO: Checkpoint 5 saved!\n",
      "Epoch 6/40: 100%|██████| 253/253 [02:24<00:00,  1.76img/s, loss (batch)=2.3e+11]\n",
      "INFO: Checkpoint 6 saved!\n",
      "Epoch 7/40: 100%|█████| 253/253 [02:17<00:00,  1.85img/s, loss (batch)=1.53e+10]\n",
      "INFO: Checkpoint 7 saved!\n",
      "Epoch 8/40: 100%|█████| 253/253 [02:14<00:00,  1.88img/s, loss (batch)=1.24e+11]\n",
      "INFO: Checkpoint 8 saved!\n",
      "Epoch 9/40: 100%|█████| 253/253 [02:09<00:00,  1.95img/s, loss (batch)=2.25e+11]\n",
      "INFO: Checkpoint 9 saved!\n",
      "Epoch 10/40: 100%|████| 253/253 [02:02<00:00,  2.07img/s, loss (batch)=1.12e+12]\n",
      "INFO: Checkpoint 10 saved!\n",
      "Epoch 11/40: 100%|████| 253/253 [02:12<00:00,  1.91img/s, loss (batch)=5.09e+10]\n",
      "INFO: Checkpoint 11 saved!\n",
      "Epoch 12/40: 100%|████| 253/253 [02:05<00:00,  2.02img/s, loss (batch)=1.22e+11]\n",
      "INFO: Checkpoint 12 saved!\n",
      "Epoch 13/40: 100%|████| 253/253 [02:16<00:00,  1.85img/s, loss (batch)=2.67e+11]\n",
      "INFO: Checkpoint 13 saved!\n",
      "Epoch 14/40: 100%|████| 253/253 [02:06<00:00,  2.00img/s, loss (batch)=7.84e+10]\n",
      "INFO: Checkpoint 14 saved!\n",
      "Epoch 15/40: 100%|████| 253/253 [02:14<00:00,  1.88img/s, loss (batch)=3.12e+11]\n",
      "INFO: Checkpoint 15 saved!\n",
      "Epoch 16/40: 100%|████| 253/253 [02:07<00:00,  1.99img/s, loss (batch)=4.88e+11]\n",
      "INFO: Checkpoint 16 saved!\n",
      "Epoch 17/40: 100%|████| 253/253 [02:03<00:00,  2.05img/s, loss (batch)=3.83e+10]\n",
      "INFO: Checkpoint 17 saved!\n",
      "Epoch 18/40: 100%|████| 253/253 [02:07<00:00,  1.99img/s, loss (batch)=2.08e+11]\n",
      "INFO: Checkpoint 18 saved!\n",
      "Epoch 19/40: 100%|████| 253/253 [02:02<00:00,  2.06img/s, loss (batch)=2.41e+11]\n",
      "INFO: Checkpoint 19 saved!\n",
      "Epoch 20/40: 100%|████| 253/253 [02:05<00:00,  2.02img/s, loss (batch)=1.08e+11]\n",
      "INFO: Checkpoint 20 saved!\n",
      "Epoch 21/40: 100%|████| 253/253 [02:03<00:00,  2.04img/s, loss (batch)=2.25e+11]\n",
      "INFO: Checkpoint 21 saved!\n",
      "Epoch 22/40: 100%|████| 253/253 [02:08<00:00,  1.98img/s, loss (batch)=3.58e+11]\n",
      "INFO: Checkpoint 22 saved!\n",
      "Epoch 23/40: 100%|████| 253/253 [02:26<00:00,  1.72img/s, loss (batch)=5.54e+10]\n",
      "INFO: Checkpoint 23 saved!\n",
      "Epoch 24/40: 100%|████| 253/253 [02:15<00:00,  1.87img/s, loss (batch)=8.35e+10]\n",
      "INFO: Checkpoint 24 saved!\n",
      "Epoch 25/40: 100%|████| 253/253 [02:08<00:00,  1.96img/s, loss (batch)=2.19e+11]\n",
      "INFO: Checkpoint 25 saved!\n",
      "Epoch 26/40: 100%|████| 253/253 [02:08<00:00,  1.97img/s, loss (batch)=1.95e+11]\n",
      "INFO: Checkpoint 26 saved!\n",
      "Epoch 27/40: 100%|████| 253/253 [02:12<00:00,  1.91img/s, loss (batch)=3.25e+11]\n",
      "INFO: Checkpoint 27 saved!\n",
      "Epoch 28/40: 100%|████| 253/253 [02:06<00:00,  1.99img/s, loss (batch)=2.91e+11]\n",
      "INFO: Checkpoint 28 saved!\n",
      "Epoch 29/40: 100%|████| 253/253 [02:15<00:00,  1.87img/s, loss (batch)=3.47e+11]\n",
      "INFO: Checkpoint 29 saved!\n",
      "Epoch 30/40: 100%|████| 253/253 [02:18<00:00,  1.83img/s, loss (batch)=1.65e+11]\n",
      "INFO: Checkpoint 30 saved!\n",
      "Epoch 31/40: 100%|████| 253/253 [02:23<00:00,  1.76img/s, loss (batch)=2.82e+11]\n",
      "INFO: Checkpoint 31 saved!\n",
      "Epoch 32/40: 100%|████| 253/253 [02:08<00:00,  1.97img/s, loss (batch)=2.92e+11]\n",
      "INFO: Checkpoint 32 saved!\n",
      "Epoch 33/40: 100%|████| 253/253 [02:06<00:00,  1.99img/s, loss (batch)=4.93e+11]\n",
      "INFO: Checkpoint 33 saved!\n",
      "Epoch 34/40: 100%|████| 253/253 [02:06<00:00,  2.00img/s, loss (batch)=2.48e+11]\n",
      "INFO: Checkpoint 34 saved!\n",
      "Epoch 35/40: 100%|████| 253/253 [02:27<00:00,  1.72img/s, loss (batch)=1.86e+11]\n",
      "INFO: Checkpoint 35 saved!\n",
      "Epoch 36/40: 100%|████| 253/253 [02:21<00:00,  1.78img/s, loss (batch)=1.64e+11]\n",
      "INFO: Checkpoint 36 saved!\n",
      "Epoch 37/40: 100%|████| 253/253 [02:10<00:00,  1.94img/s, loss (batch)=1.21e+11]\n",
      "INFO: Checkpoint 37 saved!\n",
      "Epoch 38/40: 100%|████| 253/253 [02:16<00:00,  1.85img/s, loss (batch)=1.41e+11]\n",
      "INFO: Checkpoint 38 saved!\n",
      "Epoch 39/40: 100%|████| 253/253 [02:14<00:00,  1.89img/s, loss (batch)=1.03e+11]\n",
      "INFO: Checkpoint 39 saved!\n",
      "Epoch 40/40: 100%|████| 253/253 [02:17<00:00,  1.84img/s, loss (batch)=3.07e+11]\n",
      "INFO: Checkpoint 40 saved!\n"
     ]
    }
   ],
   "source": [
    "dataset = ReportDataset(report_df, img_size=512, img_dir=image_path, report_dir=report_path)\n",
    "\n",
    "train_language_modelling(dataset, model)"
   ]
  },
  {
   "cell_type": "markdown",
   "id": "8965cd13",
   "metadata": {},
   "source": [
    "# Test Model"
   ]
  },
  {
   "cell_type": "code",
   "execution_count": 82,
   "id": "0d3d48ea",
   "metadata": {},
   "outputs": [
    {
     "name": "stderr",
     "output_type": "stream",
     "text": [
      "Some weights of the model checkpoint at bert-base-multilingual-cased were not used when initializing BertLMHeadModel: ['cls.seq_relationship.bias', 'cls.seq_relationship.weight']\n",
      "- This IS expected if you are initializing BertLMHeadModel from the checkpoint of a model trained on another task or with another architecture (e.g. initializing a BertForSequenceClassification model from a BertForPreTraining model).\n",
      "- This IS NOT expected if you are initializing BertLMHeadModel from the checkpoint of a model that you expect to be exactly identical (initializing a BertForSequenceClassification model from a BertForSequenceClassification model).\n"
     ]
    },
    {
     "data": {
      "text/plain": [
       "<All keys matched successfully>"
      ]
     },
     "execution_count": 82,
     "metadata": {},
     "output_type": "execute_result"
    }
   ],
   "source": [
    "#Select here the best training model\n",
    "load = \"./checkpoints/checkpoint_epoch40.pth\"\n",
    "\n",
    "model = BIRADS_MODEL()\n",
    "\n",
    "model.load_state_dict(torch.load(load))"
   ]
  },
  {
   "cell_type": "code",
   "execution_count": 76,
   "id": "61564863",
   "metadata": {},
   "outputs": [],
   "source": [
    "def image_preprocess(pil_img):\n",
    "        # Resize\n",
    "        pil_img = pil_img.resize((512, 512), resample=Image.NEAREST)\n",
    "\n",
    "        pil_img = pil_img.convert('L')\n",
    "\n",
    "        # To ndarray\n",
    "        img_ndarray = np.asarray(pil_img, dtype=np.uint32)\n",
    "\n",
    "        img_ndarray = (img_ndarray * 255) // np.max(img_ndarray)\n",
    "\n",
    "        img_ndarray = img_ndarray.astype(np.uint8)\n",
    "        \n",
    "        if img_ndarray.ndim == 2:\n",
    "            img_ndarray = np.expand_dims(img_ndarray, 0)\n",
    "\n",
    "        return img_ndarray"
   ]
  },
  {
   "cell_type": "code",
   "execution_count": 79,
   "id": "0995d9aa",
   "metadata": {},
   "outputs": [
    {
     "name": "stdout",
     "output_type": "stream",
     "text": [
      "BIRADS: 2\n",
      "Report: \n",
      ".... jako jako jako jako jako jako jako jako jako jako jako jako jako jako jako jako jako jako jako jako jako jako jako jako వీధుల فوق على వీధుల ব্যুরো على على على على على على على على على على على على على على على على على على على على على على على على على على على على على على على pleno على على على على على على على على على على على على على على على على على على على على على على على على على على على على على على على على على على على على على على على على على على على على على على على pleno on on on on on on on on on على on on على على على على على على على على on على على على على على على على على على على على على على على على على على على على على على على على على على على على على على على على على على على على على على على على على على على على على على على على على على على على على على على على على على على على على على على على على على على على على على على على على على on على على على على على على على على على على على على على على على على على على على على على على على على على على على على على على على على على على على على على على లోపు على على లోపు లోపు على على లోపు - లోపు లోపు - - - - - - - - - على على على على على على على على على على - - - - -. - - - - - - - - - - - - - - - - - - on on on on on on on on on - - on on - - on on on - on - - - - - - - - - - - - - - - - - - - - على - - - على - على - on on on على on on on on on on on on on on on on على على on على على على on on on on on on on on on on on on on on on on on on on on on on on on on on on on on on on on on on on on on on on on on on on on on on on on on on on on on on on on on on on on on on on on on on on on on on on on on on on on on on on on on on on on on on on on on on on on on on on on - - on - - on on - on on on on on on on on on on on on on on on on on on on on on on on on on on on on on on on on on on on on on on\n"
     ]
    }
   ],
   "source": [
    "img = \"22678622_61b13c59bcba149e_MG_R_CC_ANON.dcm.png\"\n",
    "\n",
    "from transformers import AutoTokenizer\n",
    "tokenizer = AutoTokenizer.from_pretrained(\"bert-base-multilingual-cased\")\n",
    "\n",
    "img = os.path.join(image_path, img)\n",
    "img = Image.open(img)\n",
    "img = image_preprocess(img)\n",
    "img = torch.as_tensor(img.copy()).float().contiguous()\n",
    "\n",
    "img = img.unsqueeze(0)\n",
    "\n",
    "label_dict = {1: \"1\",\n",
    "           2: \"2\",\n",
    "           3: \"3\",\n",
    "           4: \"4a\",\n",
    "           5: \"4b\",\n",
    "           6: \"4c\",\n",
    "           7: \"5\",\n",
    "           8: \"6\"}\n",
    "\n",
    "out = model(img)\n",
    "\n",
    "birads = label_dict[torch.argmax(out[\"BIRADS\"]).cpu().item()]\n",
    "report = torch.argmax(out[\"Report\"].logits, dim=2)[0]\n",
    "\n",
    "print(f\"BIRADS: {birads}\")\n",
    "print(f\"Report: \\n{tokenizer.decode(report)}\")"
   ]
  },
  {
   "cell_type": "markdown",
   "id": "e83113d4",
   "metadata": {},
   "source": [
    "# Discussion\n",
    "\n",
    "Este modelo no tiene buen rendimiento para la creación de informes. Esto se debe a que entrenamos un modelo BERT base prácticamente desde 0 (pues si bien el modelo ya sabe escribir, el vector de representaciones del input no es conocido).\n",
    "\n",
    "Hay múltiples formas de mejorar este rendimiento, se dejan propuestas:\n",
    "\n",
    "1- La primera forma es entrenar el modelo con más data. Esto mejorará considerablemente el rendimiento del modelo. Notemos que se requieren grandes cantidades de datos para esto.\n",
    "\n",
    "2- La segunda manera, es realizar el fine-tuning del modelo con estrategia masked LM. Este es el método de entrenamiento original de BERT y permite un aprendizaje semi-supervisado para este caso.\n",
    "\n",
    "3- La tercera y última es la más recomendada, pero más compleja. Se recomienda utilizar dos redes paralelas, un BERT y el encoder del modelo, en este caso ResNet. El objetivo es pasar el informe por el modelo BERT *congelado* y la imagen por el modelo ResNet. Con esto se calcula un contrastive loss y se entrena el modelo ResNet. Esto permite que el encoder aprenda la codificación de BERT, reduciendo la cantidad de datos necesarios en el fine-tuning y no requiere que las imágenes sean de mamografías, pueden ser cualquier set de imágenes en escala de grises que esté informada [ver image captioning]. Luego de este entrenamiento intensivo (periodo largo y mucha data), se deberá hacer el fine tuning de los cabezales tal y como se realiza en este notebook. Notemos que para este fine-tuning, se debe congelar el backbone como se hizo en *Report Fine-Tuning*.\n",
    "\n",
    "4- Finalmente, la última opción requiere menos data y es reemplazar el decoder de bert por un Bert tiny.\n",
    "\n",
    "Vuelvo a reiterar que el mal rendimiento del modelo se debe exclusivamente a la falta de datos. Además, se recomienda utilizar el modelo en inglés con *bert-base-uncased* en vez de *bert-base-multilingual-cased*."
   ]
  }
 ],
 "metadata": {
  "kernelspec": {
   "display_name": "Torch",
   "language": "python",
   "name": "torch"
  },
  "language_info": {
   "codemirror_mode": {
    "name": "ipython",
    "version": 3
   },
   "file_extension": ".py",
   "mimetype": "text/x-python",
   "name": "python",
   "nbconvert_exporter": "python",
   "pygments_lexer": "ipython3",
   "version": "3.9.7"
  }
 },
 "nbformat": 4,
 "nbformat_minor": 5
}
